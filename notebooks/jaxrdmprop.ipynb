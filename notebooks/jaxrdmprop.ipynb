{
 "cells": [
  {
   "cell_type": "code",
   "execution_count": 1,
   "id": "17a5e964-00f7-4e5c-a595-602ee2337712",
   "metadata": {},
   "outputs": [],
   "source": [
    "from jax import config\n",
    "config.update(\"jax_enable_x64\", True)\n",
    "import jax.numpy as jnp\n",
    "from jax import jit, lax\n",
    "\n",
    "import numpy as np\n",
    "import matplotlib\n",
    "import matplotlib.pyplot as plt\n",
    "\n",
    "import scipy.integrate as si\n",
    "import scipy.optimize as so\n",
    "import scipy.linalg as sl\n",
    "\n",
    "import time\n",
    "\n",
    "from tqdm import trange\n",
    "import os \n",
    "os.environ['XLA_PYTHON_CLIENT_PREALLOCATE']='false'"
   ]
  },
  {
   "cell_type": "code",
   "execution_count": 2,
   "id": "44d0f005-d50e-43d2-8a24-0b10d3f78acb",
   "metadata": {},
   "outputs": [],
   "source": [
    "mol = 'heh+'\n",
    "basis = 'sto-3g'"
   ]
  },
  {
   "cell_type": "code",
   "execution_count": 3,
   "id": "3f9635aa-b77d-486a-b5c0-69de0af3166d",
   "metadata": {},
   "outputs": [],
   "source": [
    "# construct prefix used to load and save files\n",
    "if basis=='sto-3g':\n",
    "    prefix='casscf22_s2_'\n",
    "elif basis=='6-31g':\n",
    "    prefix='casscf24_s15_'\n",
    "else:\n",
    "    print(\"Error: basis set not recognized! Must choose either sto-3g or 6-31g\")\n",
    "    sys.exit(1)"
   ]
  },
  {
   "cell_type": "code",
   "execution_count": 4,
   "id": "4211a4b3-e392-43aa-9b58-b3e40d9679f9",
   "metadata": {},
   "outputs": [],
   "source": [
    "bigtens = np.load('./logfiles/'+prefix+mol+'_'+basis+'_tensor_mo.npy')\n",
    "dimat = np.load('./logfiles/'+prefix+mol+'_'+basis+'_CI_dimat.npz')"
   ]
  },
  {
   "cell_type": "code",
   "execution_count": 5,
   "id": "68f61faf-4faa-42b9-ac35-41d9d3bc32eb",
   "metadata": {},
   "outputs": [],
   "source": [
    "# time step\n",
    "mydt = 0.008268\n",
    "\n",
    "# number of time steps to test for\n",
    "# here i am going for a final time of 200.0 (atomic units)\n",
    "trajshape0 = int(np.ceil(200.0 / mydt))\n",
    "\n",
    "# E field parameters\n",
    "freq = 1.5\n",
    "ncyc = 5\n",
    "emax = 0.5"
   ]
  },
  {
   "cell_type": "code",
   "execution_count": 14,
   "id": "ac9e4bb5-e680-4963-a390-d0ef378c413e",
   "metadata": {},
   "outputs": [],
   "source": [
    "# load diagonalized CI Hamiltonian\n",
    "ham = np.load('./logfiles/'+prefix+mol+'_'+basis+'_hamiltonian.npy')\n",
    "\n",
    "# drcCI is our own in-house acronym for \"density rows/columns in configuration interaction (basis)\" \n",
    "# basically, we need some descriptive variable name (preferably not N or M or something generic)\n",
    "# that tells us how many rows/columns are in the following *configuration interaction* objects:\n",
    "# - Hamiltonian matrices\n",
    "# - state vectors $\\mathbf{a}(t)$\n",
    "# - density matrices\n",
    "drcCI = ham.shape[0]\n",
    "\n",
    "# why did we do this?\n",
    "# ham = ham - np.diag([np.min(ham)]*drcCI)"
   ]
  },
  {
   "cell_type": "code",
   "execution_count": 15,
   "id": "edb05f3e-4b94-4d40-831d-17ef5d91b33f",
   "metadata": {},
   "outputs": [
    {
     "data": {
      "text/plain": [
       "array([[-2.851024 ,  0.       ,  0.       ,  0.       ],\n",
       "       [ 0.       , -2.0387412,  0.       ,  0.       ],\n",
       "       [ 0.       ,  0.       , -1.8170195,  0.       ],\n",
       "       [ 0.       ,  0.       ,  0.       , -0.4921346]])"
      ]
     },
     "execution_count": 15,
     "metadata": {},
     "output_type": "execute_result"
    }
   ],
   "source": [
    "ham"
   ]
  },
  {
   "cell_type": "code",
   "execution_count": 18,
   "id": "d9688d7d-f8ba-4bdd-9686-7983d7a043b8",
   "metadata": {},
   "outputs": [],
   "source": [
    "ev = np.load('./logfiles/casscf22_s2_heh+_sto-3g_ci_coefficients.npy')"
   ]
  },
  {
   "cell_type": "code",
   "execution_count": 38,
   "id": "5cd92c38-083e-4200-a2e2-fa11b2d1ef0c",
   "metadata": {},
   "outputs": [],
   "source": [
    "preham = ev.T @ ham @ ev"
   ]
  },
  {
   "cell_type": "code",
   "execution_count": 39,
   "id": "762bce89-fa5e-4e10-8417-c9a5e9144249",
   "metadata": {},
   "outputs": [
    {
     "data": {
      "text/plain": [
       "array([[-2.774, -0.189, -0.189,  0.073],\n",
       "       [-0.189, -1.965,  0.073,  0.006],\n",
       "       [-0.189,  0.073, -1.965,  0.006],\n",
       "       [ 0.073,  0.006,  0.006, -0.494]])"
      ]
     },
     "execution_count": 39,
     "metadata": {},
     "output_type": "execute_result"
    }
   ],
   "source": [
    "np.round(preham, 3)"
   ]
  },
  {
   "cell_type": "code",
   "execution_count": 40,
   "id": "1b9bb867-fdd5-4107-a2e5-5497925da208",
   "metadata": {},
   "outputs": [
    {
     "data": {
      "text/plain": [
       "array([[-2.851,  0.   , -0.   , -0.   ],\n",
       "       [ 0.   , -2.039, -0.   , -0.   ],\n",
       "       [-0.   , -0.   , -1.817,  0.   ],\n",
       "       [-0.   , -0.   ,  0.   , -0.492]])"
      ]
     },
     "execution_count": 40,
     "metadata": {},
     "output_type": "execute_result"
    }
   ],
   "source": [
    "np.round(ev @ preham @ ev.T, 3)"
   ]
  },
  {
   "cell_type": "code",
   "execution_count": 7,
   "id": "184d46fc-7c79-4890-bf14-76652149bd07",
   "metadata": {},
   "outputs": [],
   "source": [
    "# defining some extra time-stepping parameters\n",
    "offset = 0\n",
    "tvec = np.arange(offset,offset+trajshape0)*mydt\n",
    "\n",
    "# the electric field is switched on at t=0 and switched off at t=tmeoff (time off)\n",
    "tmeoff = ncyc*2*np.pi/freq\n",
    "ef = (tvec>=0)*(tvec<=tmeoff)*emax*np.sin(freq*tvec)"
   ]
  },
  {
   "cell_type": "code",
   "execution_count": 8,
   "id": "d0d1f284-bad3-43cc-a8ff-b867735dc6dd",
   "metadata": {},
   "outputs": [],
   "source": [
    "# here we compute all one-step propagators!\n",
    "\n",
    "# the hamCI Hamiltonian consists of two pieces:\n",
    "# 1) the core CI diagonal matrix (loaded from Gaussian)\n",
    "# 2) an electric field term (amplitude * dipole moment matrix in z direction)\n",
    "\n",
    "# to compute each propagator, we diagonalize hamCI at each time step\n",
    "\n",
    "hamCI = np.expand_dims(ham,0) - np.einsum('i,jk->ijk',ef,dimat)\n",
    "hamCI = (1+0j)*hamCI\n",
    "alldd = np.zeros((trajshape0,drcCI),dtype=np.float64)\n",
    "allvv = np.zeros((trajshape0,drcCI,drcCI),dtype=np.complex128)\n",
    "allprop = np.zeros((trajshape0,drcCI,drcCI),dtype=np.complex128)\n",
    "for i in range(trajshape0):\n",
    "    dd, vv = np.linalg.eigh(hamCI[i,:,:])\n",
    "    alldd[i,:] = dd\n",
    "    allvv[i,:,:] = vv\n",
    "    allprop[i,:,:] = vv @ np.diag(np.exp(-1j*mydt*alldd[i,:])) @ vv.conj().T\n",
    "    "
   ]
  },
  {
   "cell_type": "code",
   "execution_count": 9,
   "id": "708734b4-177f-40eb-8c85-d22f38bb9f42",
   "metadata": {},
   "outputs": [],
   "source": [
    "# propagate TDCI solution\n",
    "newtdcicoeffs = np.zeros((trajshape0,drcCI),dtype=np.complex128)\n",
    "\n",
    "# the initial density matrix is a purely diagonal matrix\n",
    "# with 1.0 in the upper-left corner, and 0.0 everywhere else\n",
    "newtdcicoeffs[0,0] = 1.0 \n",
    "\n",
    "# because we have already computed and stored all 1-stop propagators,\n",
    "# let us use them here\n",
    "for i in range(trajshape0-1):\n",
    "    newtdcicoeffs[i+1,:] = allprop[i,:,:] @ newtdcicoeffs[i,:]\n",
    "\n",
    "# load overlap matrix from disk (the Gaussian .log file) rather than having it hardcoded...\n",
    "goodlines = []\n",
    "with open('./logfiles/'+prefix+mol+'_'+basis+'.log','r') as f:\n",
    "    startmat = 0\n",
    "    cnt = 0\n",
    "    for line in f:\n",
    "        if line.rstrip() == ' *** Overlap ***':\n",
    "            startmat = 1\n",
    "        if startmat==1:\n",
    "            if line.rstrip() == ' *** Kinetic Energy ***':\n",
    "                break\n",
    "            if cnt >= 2:\n",
    "                goodlines.append(line.rstrip())\n",
    "            cnt += 1\n",
    "\n",
    "drc = len(goodlines)\n",
    "S = np.zeros((drc, drc))\n",
    "for j in range(drc):\n",
    "    for k in range(j+1):\n",
    "        myarr = np.fromstring(goodlines[j].replace('D','e'), sep=' ')\n",
    "        S[j,k] = myarr[k+1]\n",
    "\n",
    "for j in range(drc):\n",
    "    for k in range(j+1,drc):\n",
    "        S[j,k] = S[k,j]"
   ]
  },
  {
   "cell_type": "code",
   "execution_count": 12,
   "id": "0fb72195-683e-46a7-93f4-4baa99b6e594",
   "metadata": {},
   "outputs": [
    {
     "name": "stderr",
     "output_type": "stream",
     "text": [
      "/global/homes/h/hbhat512/.conda/envs/jax2024/lib/python3.9/site-packages/matplotlib/cbook.py:1699: ComplexWarning: Casting complex values to real discards the imaginary part\n",
      "  return math.isfinite(val)\n",
      "/global/homes/h/hbhat512/.conda/envs/jax2024/lib/python3.9/site-packages/matplotlib/cbook.py:1345: ComplexWarning: Casting complex values to real discards the imaginary part\n",
      "  return np.asarray(x, float)\n"
     ]
    },
    {
     "data": {
      "image/png": "[encoded data removed]",
      "text/plain": [
       "<Figure size 640x480 with 1 Axes>"
      ]
     },
     "metadata": {},
     "output_type": "display_data"
    },
    {
     "data": {
      "image/png": "[encoded data removed]",
      "text/plain": [
       "<Figure size 640x480 with 1 Axes>"
      ]
     },
     "metadata": {},
     "output_type": "display_data"
    }
   ],
   "source": [
    "# S0, T1, S1, S2\n",
    "# indices 0, 1, 2, 3 in python\n",
    "plt.plot(newtdcicoeffs[:,1])\n",
    "plt.show()\n",
    "plt.plot(newtdcicoeffs[:,2])\n",
    "plt.show()"
   ]
  },
  {
   "cell_type": "code",
   "execution_count": 10,
   "id": "10136295-9514-4105-97da-87e394babc85",
   "metadata": {},
   "outputs": [
    {
     "name": "stdout",
     "output_type": "stream",
     "text": [
      "2.0000000128321855\n"
     ]
    }
   ],
   "source": [
    "# at once, let us compute all true 1RDM matrices in the MO basis\n",
    "newrdmMO = np.einsum('ni,nj,ijab->nab',newtdcicoeffs,np.conjugate(newtdcicoeffs),bigtens.reshape((drcCI,drcCI,drc,drc)))\n",
    "\n",
    "# these 1RDM matrices should have constant trace equal to the number of electrons\n",
    "traces_p = np.einsum('ijj->i', newrdmMO)\n",
    "\n",
    "# for H2 and HeH+, this number should be extremely close to 2, the number of electrons\n",
    "print(np.mean(np.abs(traces_p)))"
   ]
  },
  {
   "cell_type": "code",
   "execution_count": 13,
   "id": "5ae6fbd5-334e-4ba0-81a4-d061eb18ff65",
   "metadata": {
    "scrolled": true
   },
   "outputs": [
    {
     "name": "stdout",
     "output_type": "stream",
     "text": [
      "0\n",
      "1000\n",
      "2000\n",
      "3000\n",
      "4000\n",
      "5000\n",
      "6000\n",
      "7000\n",
      "8000\n",
      "9000\n",
      "10000\n",
      "11000\n",
      "12000\n",
      "13000\n",
      "14000\n",
      "15000\n",
      "16000\n",
      "17000\n",
      "18000\n",
      "19000\n",
      "20000\n",
      "21000\n",
      "22000\n",
      "23000\n",
      "24000\n"
     ]
    }
   ],
   "source": [
    "alleigs = np.zeros((newrdmMO.shape[0], 2))\n",
    "for j in range(newrdmMO.shape[0]):\n",
    "    alleigs[j,:] = np.linalg.eigvalsh(newrdmMO[j,:,:])\n",
    "    if j % 1000 == 0:\n",
    "        print(j)"
   ]
  },
  {
   "cell_type": "code",
   "execution_count": 14,
   "id": "0bf8e440-30b3-443a-bb11-aabedac0a058",
   "metadata": {},
   "outputs": [
    {
     "data": {
      "image/png": "[encoded data removed]",
      "text/plain": [
       "<Figure size 640x480 with 1 Axes>"
      ]
     },
     "metadata": {},
     "output_type": "display_data"
    }
   ],
   "source": [
    "plt.plot(alleigs[:,0])\n",
    "plt.show()"
   ]
  },
  {
   "cell_type": "code",
   "execution_count": 15,
   "id": "95377063-8025-4188-a477-1954a1380a7a",
   "metadata": {},
   "outputs": [
    {
     "name": "stdout",
     "output_type": "stream",
     "text": [
      "5.141082063150374e-12\n"
     ]
    }
   ],
   "source": [
    "# at once, let us compute all full density matrices in the CI basis\n",
    "tdciden = np.einsum('ni,nj->nij',newtdcicoeffs,np.conj(newtdcicoeffs))\n",
    "\n",
    "# let us check how idempotent all of these density matrices are\n",
    "# they should be idempotent, because\n",
    "#   \\mathbf{a}(t) \\mathbf{a}(t)^\\dagger \\mathbf{a}(t) \\mathbf{a}(t)^\\dagger \n",
    "# = \\mathbf{a}(t) ( \\mathbf{a}(t)^\\dagger \\mathbf{a}(t) ) \\mathbf{a}(t)^\\dagger \n",
    "# = \\mathbf{a}(t) (1) \\mathbf{a}(t)^\\dagger\n",
    "# = \\mathbf{a}(t) \\mathbf{a}(t)^\\dagger\n",
    "print( np.linalg.norm(np.einsum('nij,njk->nik',tdciden,tdciden) - tdciden) )"
   ]
  },
  {
   "cell_type": "code",
   "execution_count": 16,
   "id": "9d9a04ae-68d4-4d75-a86d-00dbbd44bf93",
   "metadata": {},
   "outputs": [],
   "source": [
    "# reshape the 4-index tensor into a 2-index matrix\n",
    "bigtens = bigtens.reshape((drcCI**2,drc**2)).astype(np.complex128)"
   ]
  },
  {
   "cell_type": "code",
   "execution_count": 17,
   "id": "36a86b36-ffdf-4a0b-95d7-92a3adceaee8",
   "metadata": {},
   "outputs": [],
   "source": [
    "# mat2vec produces a matrix that can be used to *represent*\n",
    "# an n x n Hermitian matrix with constant trace via\n",
    "# a real vector of size n**2\n",
    "\n",
    "# note:\n",
    "# smat = mat2vec(n) will generate a complex matrix of size n**2 x n**2\n",
    "\n",
    "# multiplying smat by a real vector of size n**2 will generate a complex vector of size n**2,\n",
    "# which when reshaped into an n x n matrix, will be Hermitian\n",
    "\n",
    "# important technical note:\n",
    "# in the real vector of size n**2, the entry at Python index location (n * (n+1))//2 - 1\n",
    "# tells you what the trace of the Hermitian matrix will be!\n",
    "#\n",
    "# i refer to \"(n * (n+1))//2 - 1\" as the \"magic index\" below...\n",
    "#\n",
    "\n",
    "# example usage for the simplest possible Hermitian matrix, which is of size 2x2:\n",
    "# \n",
    "# here n = 2, so the \"magic index\" (n * (n+1))//2 - 1 = 2\n",
    "#\n",
    "# let us say that our desired trace is 2.0 and that we want to represent the Hermitian matrix\n",
    "# \n",
    "# [[ 1.0         2.0 - 3.0j ]\n",
    "# [ 2.0 + 3.0j  1.0        ]]\n",
    "#\n",
    "# here is how we can do it:\n",
    "#\n",
    "# smat = mat2vec(2)\n",
    "# realvec = np.array([1.0, 2.0, 2.0, -3.0])\n",
    "# hermvec = smat @ realvec\n",
    "# print(hermvec.reshape((2,2)))\n",
    "# \n",
    "# the output of this code snippet will be\n",
    "#\n",
    "# [[1.+0.j 2.-3.j]\n",
    "#  [2.+3.j 1.+0.j]]\n",
    "#\n",
    "# as desired!\n",
    "#\n",
    "\n",
    "def mat2vec(n):\n",
    "    # each column of the realmat is a flattened element of the basis\n",
    "    # of the vector space of all Hermitian matrices of size n x n\n",
    "    # \n",
    "    # in particular, these basis elements handle the *symmetric* or *real*\n",
    "    # part of the Hermitian matrix, which is why realmat's non-zero entries are 1\n",
    "    realmat = np.zeros((n**2,(n+1)*n//2),dtype=np.int16)\n",
    "    for i in range(n):\n",
    "        for j in range(n):\n",
    "            row = i*n + j\n",
    "            if i<=j:\n",
    "                col = i*n + j - i*(i+1)//2\n",
    "            else:\n",
    "                col = j*n + i - j*(j+1)//2\n",
    "            realmat[row,col]=1\n",
    "\n",
    "    # here we take care of constant trace!\n",
    "    # - you will see that we index realmat[-1, j], and\n",
    "    #   the \"-1\" is Python shorthand for \"last row\"\n",
    "    # - what we are doing here is basically setting up the equation\n",
    "    #   H_{n,n} = traceconst - H_{1,1} - H_{2,2} - ... - H_{n-1,n-1}\n",
    "    # - the \"traceconst\" term is already taken into account via the construction above;\n",
    "    #   before we run the \"while\" loop below, realmat[-1,:] will be zero except for one\n",
    "    #   entry of 1.0 in column number (n+1)*n//2 - 1, which is of course the \"magic index\"\n",
    "    #   that we referred to above\n",
    "    # - the job of the while loop below is to replace some zeros with -1, \n",
    "    #   at locations that correspond to diagonal entries of H\n",
    "    # - you can figure out what indices these are by working through the while loop logic:\n",
    "    #   - j=0 corresponds to H_{1,1}\n",
    "    #   - j=n corresponds to H_{2,2} because we do not store the lower-triangular entry H_{2,1}\n",
    "    #   - j=2*n-1 corresponds to H_{3,3} because we do not store either H_{3,1} or H_{3,2}\n",
    "    # - try it for n=4 and you will see the relationship if you write down the triangular array\n",
    "    #    0 1 2 3 \n",
    "    #      4 5 6 \n",
    "    #        7 8 \n",
    "    #          9\n",
    "    j = 0\n",
    "    i = 0\n",
    "    while j < (realmat.shape[1] - 1):\n",
    "        realmat[-1,j] = -1\n",
    "        j += n - i*1\n",
    "        i += 1\n",
    "    \n",
    "    # each column of the imagmat is a flattened element of the basis\n",
    "    # of the vector space of all Hermitian matrices of size n x n\n",
    "    #\n",
    "    # in particular, these basis elements handle the *antisymmetric* or *imaginary*\n",
    "    # part of the Hermitian matrix, which is why imagmat has both 1 and -1 entries\n",
    "    imagmat = np.zeros((n**2,(n-1)*n//2),dtype=np.int16)\n",
    "    for i in range(n):\n",
    "        for j in range(n):\n",
    "            row = i*n + j\n",
    "            if i<j:\n",
    "                col = i*n + j - (i+1)*(i+2)//2\n",
    "                imagmat[row,col]=1\n",
    "            if i>j:\n",
    "                col = j*n + i - (j+1)*(j+2)//2\n",
    "                imagmat[row,col]=-1\n",
    "    symmat = np.hstack([realmat, 1j*imagmat])\n",
    "    return symmat\n",
    "\n",
    "smat = mat2vec(drcCI)"
   ]
  },
  {
   "cell_type": "code",
   "execution_count": 18,
   "id": "9038f1bc-f822-483d-a08c-f287d4498b1e",
   "metadata": {},
   "outputs": [],
   "source": [
    "# after this code block, upper_mapping will map tuples to integers\n",
    "# so, row/column indices of the upper-triangular part of a matrix\n",
    "# *including the diagonal*\n",
    "# get mapped to flattened vectorial indices\n",
    "#\n",
    "# philosophical note: as we include the diagonal here,\n",
    "# we can think of this as mapping tuples to indices \n",
    "# for the **real** part of a Hermitian matrix\n",
    "#\n",
    "upper_mapping = {}\n",
    "k = 0\n",
    "for i in range(drcCI):\n",
    "    for j in range(i, drcCI):\n",
    "        upper_mapping[(i,j)] = k\n",
    "        k += 1\n",
    "\n",
    "# after this code block, upper_mapping will map tuples to integers\n",
    "# so, row/column indices of the upper-triangular part of a matrix\n",
    "# *excluding the diagonal*\n",
    "# get mapped to flattened vectorial indices\n",
    "#\n",
    "# philosophical note: as we exclude the diagonal here,\n",
    "# we can think of this as mapping tuples to indices \n",
    "# for the **imaginary** part of a Hermitian matrix\n",
    "#\n",
    "upper_wo_diag_mapping = {}\n",
    "k = drcCI*(drcCI+1)//2\n",
    "for i in range(drcCI):\n",
    "    for j in range(i+1, drcCI):\n",
    "        upper_wo_diag_mapping[(i,j)] = k\n",
    "        k += 1\n",
    "\n",
    "# if we have done this correctly, the following two numbers should agree,\n",
    "# because there a complex Hermitian drcCI x drcCI matrix is determined by\n",
    "# a total of drcCI**2 real numbers\n",
    "# print(k)\n",
    "# print(drcCI**2)"
   ]
  },
  {
   "cell_type": "code",
   "execution_count": 19,
   "id": "14a62a33-aaf0-49d2-b0f7-1a352425d521",
   "metadata": {},
   "outputs": [],
   "source": [
    "# this part here is problem-dependent!\n",
    "# \n",
    "# zero_cols = list of columns of the *full CI density matrix* that are identically zero\n",
    "# \n",
    "# good_cols = all other columns\n",
    "# \n",
    "if mol=='h2':\n",
    "    if basis=='sto-3g':\n",
    "        good_cols = np.array([ 0,  2,  3])\n",
    "        zero_cols = np.array([ 1])\n",
    "    elif basis=='6-31g':\n",
    "        good_cols = np.array([ 0,  2,  4,  5,  7,  9,  11,  12,  14,  15])\n",
    "        zero_cols = np.array([ 1,  3,  6,  8,  10,  13])\n",
    "elif mol=='heh+':\n",
    "    if basis=='sto-3g':\n",
    "        good_cols = np.array([ 0,  2,  3])\n",
    "        zero_cols = np.array([ 1])\n",
    "    elif basis=='6-31g':\n",
    "        good_cols = np.array([ 0,  2,  4,  6,  7,  9,  11,  12,  14,  15])\n",
    "        zero_cols = np.array([ 1,  3,  5,  8,  10,  13])"
   ]
  },
  {
   "cell_type": "code",
   "execution_count": 20,
   "id": "5758641d-1645-40a0-85f9-ceb87589c7f6",
   "metadata": {},
   "outputs": [],
   "source": [
    "# note: because the full CI density matrix is\n",
    "#       \\mathbf{a}(t) \\mathbf{a}(t)^\\dagger,\n",
    "#       if a column is identically zero then so is the corresponding row!\n",
    "#       in short, this happend because a particular *entry* of the \\mathbf{a}(t)\n",
    "#       vector is itself identically zero (i.e., zero for all time t)\n",
    "#\n",
    "# another note: the words \"upper\" and \"lower\" below originate in the ordering of indices\n",
    "# \n",
    "# in the vectorial real representation of a complex n x n Hermitian matrix,\n",
    "# we FIRST have n*(n+1)//2 indices (the \"upper\" ones) that give us the real part, and\n",
    "# we THEN have n*(n-1)//2 indices (the \"lower\" ones) that gives us the imaginary part\n",
    "\n",
    "bad_inds = []\n",
    "del_upper = 0\n",
    "\n",
    "# loop over the (i,j) tuples in the upper_mapping dictionary\n",
    "for key in list(upper_mapping.keys()):\n",
    "    # loop over the zero columns defined above\n",
    "    for c in zero_cols:\n",
    "        # if **either** the row i or column j (in the (i,j) tuple) equals the zero column c,\n",
    "        # then the vectorized index upper_mapping[(i,j)] is a \"bad index\";\n",
    "        # for each such match, we increment our count of deleted \"upper\" indices\n",
    "        if c in key:\n",
    "            bad_inds.append(upper_mapping[key])\n",
    "            del_upper+=1\n",
    "            break\n",
    "\n",
    "del_lower = 0\n",
    "\n",
    "# loop over the (i,j) tuples in the upper_wo_diag_mapping dictionary\n",
    "for key in list(upper_wo_diag_mapping.keys()):\n",
    "    # loop over the zero columns defined above\n",
    "    for c in zero_cols:\n",
    "        # if **either** the row i or column j (in the (i,j) tuple) equals the zero column c,\n",
    "        # then the vectorized index upper_mapping[(i,j)] is a \"bad index\";\n",
    "        # for each such match, we increment our count of deleted \"lower\" indices\n",
    "        if c in key:\n",
    "            bad_inds.append(upper_wo_diag_mapping[key])\n",
    "            del_lower+=1\n",
    "            break\n"
   ]
  },
  {
   "cell_type": "code",
   "execution_count": 21,
   "id": "5ffd4ba4-797e-4ea9-b873-874f64ede669",
   "metadata": {},
   "outputs": [],
   "source": [
    "# before we start deleting entries from our real representation,\n",
    "# this is the \"magic index\" that enforces the constant trace condition\n",
    "magicind = drcCI*(drcCI+1)//2 - 1\n",
    "\n",
    "# we form an array of good indices by start with \n",
    "# a vector of all indices from 0 to drcCI**2 - 1 \n",
    "# and then deleting the bad indices\n",
    "good_inds = np.delete(np.arange(0,drcCI**2),bad_inds)\n",
    "\n",
    "# for convenience, we define an array consisting of all good indices\n",
    "# not including the magic index\n",
    "good_inds_del = good_inds[good_inds!=magicind]\n",
    "\n",
    "# since we have deleted \"del_upper\" number of entries from the \n",
    "# upper triangular portion of our real representation, we must shift\n",
    "# the magic index by that amount\n",
    "split = magicind - del_upper"
   ]
  },
  {
   "cell_type": "code",
   "execution_count": 22,
   "id": "9fdd0f0c-52b8-4a71-8e66-bcb46518ca86",
   "metadata": {},
   "outputs": [
    {
     "name": "stdout",
     "output_type": "stream",
     "text": [
      "True\n"
     ]
    }
   ],
   "source": [
    "# these next lines of code form a sanity check\n",
    "# if we combine the good and bad indices, and then sort them,\n",
    "# we should end up with a vector of all indices from 0 to drcCI**2 - 1\n",
    "total_inds = good_inds.tolist()\n",
    "total_inds.extend(bad_inds)\n",
    "total_inds.sort()\n",
    "print( all(total_inds == np.arange(0,drcCI**2)) )"
   ]
  },
  {
   "cell_type": "code",
   "execution_count": 23,
   "id": "23c54750-c5f3-4307-a667-951a8b248dc6",
   "metadata": {},
   "outputs": [],
   "source": [
    "# copy arrays to GPU\n",
    "bigtensJNP = jnp.array(bigtens)\n",
    "bigtensTJNP = jnp.array(bigtens.T)\n",
    "allpropJNP = jnp.array(allprop)\n",
    "smatJNP = jnp.array(smat)"
   ]
  },
  {
   "cell_type": "code",
   "execution_count": 24,
   "id": "1bef315e-f8a8-4777-abde-ff9b71ab0418",
   "metadata": {},
   "outputs": [],
   "source": [
    "def firststep(rdmMO):\n",
    "    j = ell\n",
    "    allCmatT = []\n",
    "\n",
    "    # here we form all required propagator chains\n",
    "    #\n",
    "    # remember that j = ell\n",
    "    #\n",
    "    # i=1: allpropJNP[ell-1]\n",
    "    # i=2: allpropJNP[ell-1] @ allpropJNP[ell-2]\n",
    "    # i=3: allpropJNP[ell-1] @ allpropJNP[ell-2] @ allpropJNP[ell-3]\n",
    "    # ...\n",
    "    # i=ell: allpropJNP[ell-1] @ ... @ allpropJNP[0]\n",
    "    # \n",
    "    # each such propagator chain is transposed and saved in the allCmatT list\n",
    "    #\n",
    "    for i in range(1,ell+1):\n",
    "        myexp = allpropJNP[j-i,:,:]\n",
    "        if i==1:\n",
    "            Cmat = myexp\n",
    "        else:\n",
    "            Cmat = Cmat @ myexp\n",
    "        # note the transpose!\n",
    "        allCmatT.append(Cmat.T)\n",
    "\n",
    "    # this converts the allCmatT list into an array\n",
    "    allCmatT = jnp.stack(allCmatT)\n",
    "\n",
    "    #\n",
    "    # see our J. Math. Phys. paper, equations (35a - 35d)\n",
    "    # \n",
    "    # here we form all the blocks in the M(t) matrix;\n",
    "    # note that the first block is simply bigtensTJNP,\n",
    "    # which corresponds to \\widetilde{B} in the paper\n",
    "    #\n",
    "    # in particular, each matrix of the form \n",
    "    # \"bigtensTJNP @ jnp.kron( CmatT, Amat )\"\n",
    "    # is one of the blocks \\mathscr{D}_{j} in the paper,\n",
    "    # defined in equation (35a)\n",
    "    #\n",
    "    bigmat = []\n",
    "    bigmat.append( bigtensTJNP )\n",
    "    for i in range(1, ell+1):\n",
    "        CmatT = allCmatT[i-1]\n",
    "        Amat = CmatT.conj()\n",
    "        bigmat.append( bigtensTJNP @ jnp.kron( CmatT, Amat ) )\n",
    "    \n",
    "    # this converts the bigmat list into an array\n",
    "    bigmat = jnp.concatenate(bigmat,axis=0)\n",
    "\n",
    "    # because this is our first very time step,\n",
    "    # we rely upon an initial segment of true 1RDMs in the MO basis\n",
    "    #\n",
    "    # this is akin to how when you solve an ODE, you must plug in\n",
    "    # the true initial condition\n",
    "    #\n",
    "    # here our propagation equation has memory, so we must plug in\n",
    "    # an array of initial conditions, at (ell+1) discrete times\n",
    "    # 0, 1, ..., ell\n",
    "    btrue = jnp.flipud(rdmMO[j-ell:(j+1),:]).reshape((-1))\n",
    "\n",
    "    # this is precisely the matrix M'(t) described in\n",
    "    # Proposition 4 of our J. Math. Phys. paper\n",
    "    mprime = bigmat @ smatJNP\n",
    "    \n",
    "    # at this stage, mprime has (ell+1)*drc**2 rows and drcCI**2 columns\n",
    "    # we need to form M''(t), described in Proposition 5, and to do so\n",
    "    # we select only those columns that correspond to ** non-trivial **\n",
    "    # elements of the vector that forms the real representation of the\n",
    "    # drcCI x drcCI Hermitian full density matrix.\n",
    "    #\n",
    "    # Thus we select only the columns in good_inds_del\n",
    "    # \n",
    "    # Note that this excludes the column corresponding to the \"magic index,\"\n",
    "    # because the corresponding entry of the factor is the constant trace value,\n",
    "    # not something that we need to solve for.\n",
    "    mdoubleprime = mprime[:,good_inds_del]\n",
    "\n",
    "    # In the next line of code, \"(btrue - bigmat[:,-1])\" is the \n",
    "    # right-hand side of equation (39) in the paper, also denoted\n",
    "    # \\mathbf{b}_{\\ell}(t) in equation (40).\n",
    "    # We now begin to implement equation (41), calculating the product of\n",
    "    # the pseudoinverse of M''(t) with \\mathbf{b}_{\\ell}(t), i.e.,\n",
    "    #\n",
    "    # M''(t)^{+} \\mathbf{b}_{\\ell}(t).\n",
    "    #\n",
    "    # The resulting vector should be (almost) the real representation of\n",
    "    # a complex Hermitian matrix, so we take the real part.\n",
    "    xxapprox = jnp.real( jnp.linalg.pinv(mdoubleprime,1e-12) @ (btrue - bigmat[:,-1]) )\n",
    "    \n",
    "    # We now insert the desired value (1.0) of the constant trace of the full CI\n",
    "    # density matrix.  We insert this value at the \"split\" point computed above.\n",
    "    # If we didn't have any deleted upper columns, the \"split\" index would be\n",
    "    # precisely the same as the \"magic index\" mentioned above.\n",
    "    #\n",
    "    # The \"-xxapprox\" is here because of a subtle difference between how Python\n",
    "    # flattens matrices versus the \"vec\" operation defined mathematically.\n",
    "    #\n",
    "    # If you visit https://en.wikipedia.org/wiki/Vectorization_(mathematics),\n",
    "    # you will see that the \"vec\" operation is defined by concatenating *columns*.\n",
    "    #\n",
    "    # However, in Python, flattening a matrix via either \"m.reshape((-1))\"\n",
    "    # or via \"m.flatten()\" results in a concatenation of *rows*.\n",
    "    #\n",
    "    # For a Hermitian matrix, the imaginary part is antisymmetric, and so to go\n",
    "    # from a column-based flattening (which is what we derived mathematically)\n",
    "    # to a rows-based flattening (which is what Python expects), we need to\n",
    "    # multiply by -1, hence the \"-xxaprox\"...    \n",
    "    xxapprox2 = jnp.concatenate([xxapprox[:split],jnp.array([1.0]),-xxapprox[split:]])\n",
    "\n",
    "    # Having inserted the 1.0 in the right slot, we need to use smatJNP\n",
    "    # restricted to the good indices (which includes the magic index)\n",
    "    # to reconstruct the Hermitian full CI density matrix, which we then\n",
    "    # unflatten by reshaping it into a matrix of size drcCI x drcCI.\n",
    "    recon = (smatJNP[:,good_inds] @ xxapprox2).reshape((drcCI,drcCI))\n",
    "\n",
    "    # sanity check to make sure recon is a Hermitian matrix\n",
    "    assert (recon == recon.conjugate().transpose()).all()\n",
    "\n",
    "    # propagate the full TDCI density matrix via one step of MMUT!\n",
    "    reconprop = allpropJNP[j,:,:] @ recon @ allpropJNP[j,:,:].conj().T\n",
    "\n",
    "    # compute new rdm\n",
    "    # first we take the full TDCI density matrix we have just obtained\n",
    "    # and flatten it into a vector using \".reshape((-1))\", and then we\n",
    "    # multiply by the \\widetilde{B} matrix to convert it to a 1RDM in the MO basis.\n",
    "    #\n",
    "    # the final \".conj()\" is to flip the sign of the imaginary part,\n",
    "    # which we must do because (as explained above) there is a subtle\n",
    "    # difference between row-wise Python flattening and column-wise \"vec\".\n",
    "    nextrdmMO = (reconprop.reshape((-1)) @ bigtensJNP).conj()\n",
    "\n",
    "    return nextrdmMO, allCmatT"
   ]
  },
  {
   "cell_type": "code",
   "execution_count": 25,
   "id": "8b9f42da-0a5e-4fd5-be86-6c4d0fa01dcf",
   "metadata": {},
   "outputs": [],
   "source": [
    "# Think of this function as the \"interior\" of a for loop over the variable j\n",
    "#\n",
    "# Such a loop indeed occurs in the code, but it is buried below in the function call\n",
    "#\n",
    "# lax.fori_loop(ell+1,numsteps-1,jloopbody,(myrdmMO,newstack,residual))\n",
    "#\n",
    "# The advantage of writing the loop in this way is:\n",
    "# JAX will JIT compile it much more quickly than if we use a basic Python for loop!\n",
    "#\n",
    "def loopbody(j, intup):\n",
    "    rdmMO, oldstack, residuals = intup\n",
    "    \n",
    "    # We have already computed long chains of propagators at the\n",
    "    # previous time step, and we are trying to avoid duplicating those efforts.\n",
    "    # Let us unpack this in detail.\n",
    "    # \n",
    "    # When we enter this function, we assume that\n",
    "    # \n",
    "    # oldstack[1] = allpropJNP[j-2].T\n",
    "    # oldstack[2] = allpropJNP[j-3].T @ allpropJNP[j-2].T\n",
    "    # oldstack[3] = allpropJNP[j-4].T @ allpropJNP[j-3].T @ allpropJNP[j-2].T\n",
    "    # ...\n",
    "    # oldstack[ell] = allpropJNP[j-1-ell].T @ ... @ allpropJNP[j-2].T\n",
    "    # \n",
    "    # This stack was computed at iteration j-1 and now we're at iteration j.\n",
    "    # What we want to obtain is a newstack such that\n",
    "    #\n",
    "    # newstack[1] = allpropJNP[j-1].T\n",
    "    # newstack[2] = allpropJNP[j-2].T @ allpropJNP[j-1].T\n",
    "    # newstack[3] = allpropJNP[j-3].T @ allpropJNP[j-2].T @ allpropJNP[j-1].T\n",
    "    # ...\n",
    "    # newstack[ell] = allpropJNP[j-ell].T @ ... @ allpropJNP[j-1].T\n",
    "    # \n",
    "    # Comparing oldstack and newstack, here is what we see:\n",
    "    # (1) We need to multiply each oldstack[i] on the right by allpropJNP[j-1].T\n",
    "    # (2) We need to multiply oldstack[i] on the left by (allpropJNP[j-(i+1)].T)^{-1}\n",
    "    #     Since each propagator is unitary, the inverse is simply the conjugate transpose,\n",
    "    #     which is (allpropJNP[j-(i+1)].T).T.conj() = allpropJNP[j-(i+1)].conj()\n",
    "    #\n",
    "    # So, in the next line of code, we access the global variable allpropJNP,\n",
    "    # which itself stores all one-step propagators propagators that are needed\n",
    "    # to change oldstack to newstack.\n",
    "    #\n",
    "    # These propagators are allpropJNP[j-(ell+1),:,:] to allpropJNP[j-2,:,:], \n",
    "    # which we extract using the \"dynamic slice\" in which we specify the \n",
    "    # \"start index\" allpropJNP[j-1-ell,0,0] followed by the \"size\" of the slice,\n",
    "    # which is \"ell\" in the first slot and \"drcCI\" in the subsequent slots.\n",
    "    #\n",
    "    allpropJNPds = lax.dynamic_slice(allpropJNP,[j-1-ell,0,0],[ell,drcCI,drcCI])\n",
    "    \n",
    "    # Here we use einsum to update all entries of oldstack all at once!\n",
    "    # Notes:\n",
    "    # - the flipud is needed to put the one-step propagators in the correct order,\n",
    "    #   because the first one we need is allpropJNP[j-2,:,:] and that's the *last*\n",
    "    #   one in allpropJNPds\n",
    "    # - the conj() is explained above and arises because we want the inverse of\n",
    "    #   a transposed propagator, and the propagator is unitary to begin with\n",
    "    # - \"idc,icb,ab->ida\" means that two multiplications are going on at once\n",
    "    # - on the left, the i-th matrix in oldstack is multiplied on the left\n",
    "    #   by the i-th matrix in jnp.flipud(allpropJNPds).conj(), as we can see\n",
    "    #   from the \"idc,ic->id\" part of the expression\n",
    "    # - on the right, each matrix in oldstack is multiplied by the transpose\n",
    "    #   of the fixed matrix allpropJNP[j-1,:,:], as we can see from the\n",
    "    #   \"b,ab->a\" part of the expression.\n",
    "    #\n",
    "    newstack = jnp.einsum('idc,icb,ab->ida',\n",
    "                          jnp.flipud(allpropJNPds).conj(),\n",
    "                          oldstack,\n",
    "                          allpropJNP[j-1,:,:],\n",
    "                          optimize=True)\n",
    "    \n",
    "    # see our J. Math. Phys. paper, equations (35a - 35d)\n",
    "    # \n",
    "    # here we form all the blocks in the M(t) matrix;\n",
    "    # note that the first block is simply bigtensTJNP,\n",
    "    # which corresponds to \\widetilde{B} in the paper\n",
    "    #\n",
    "    # in particular, each matrix of the form \n",
    "    # \"bigtensTJNP @ jnp.kron( CmatT, Amat )\"\n",
    "    # is one of the blocks \\mathscr{D}_{j} in the paper,\n",
    "    # defined in equation (35a)\n",
    "    #\n",
    "    bigmat = []\n",
    "    bigmat.append( bigtensTJNP )\n",
    "    for i in range(1, ell+1):\n",
    "        CmatT = newstack[i-1]\n",
    "        Amat = CmatT.conj()\n",
    "        bigmat.append( bigtensTJNP @ jnp.kron( CmatT, Amat ) )\n",
    "    \n",
    "    # this converts the bigmat list into an array\n",
    "    bigmat = jnp.concatenate(bigmat,axis=0)\n",
    "    \n",
    "    # Reconstruct full TDCI density: here the comments are identical to those\n",
    "    # in the firststep function above---the only difference is that we are now\n",
    "    # using an \"rdmMO\" that was passed into this \"loopbody\" function.\n",
    "    #\n",
    "    # For the \"second step\" of propagation, rdmMO will contain \"ell\" entries\n",
    "    # that are in fact ground truth 1RDMs, and only 1 entry that was computed via\n",
    "    # our scheme (in fact computed via the \"firststep\" function itself!)\n",
    "    #\n",
    "    # For each subsequent step of propagation, the rdmMO segment will gain one\n",
    "    # 1RDM computed via our scheme; correspondingly, one ground truth 1RDM will\n",
    "    # exit the segment.\n",
    "    #    \n",
    "    rdmMOds = lax.dynamic_slice(rdmMO,[j-ell,0],[ell+1,drc**2])\n",
    "    bvec = jnp.flipud(rdmMOds).reshape((-1))\n",
    "    \n",
    "    # this is precisely the matrix M'(t) described in\n",
    "    # Proposition 4 of our J. Math. Phys. paper\n",
    "    mprime = bigmat @ smatJNP\n",
    "    \n",
    "    # at this stage, mprime has (ell+1)*drc**2 rows and drcCI**2 columns\n",
    "    # we need to form M''(t), described in Proposition 5, and to do so\n",
    "    # we select only those columns that correspond to ** non-trivial **\n",
    "    # elements of the vector that forms the real representation of the\n",
    "    # drcCI x drcCI Hermitian full density matrix.\n",
    "    #\n",
    "    # Thus we select only the columns in good_inds_del\n",
    "    # \n",
    "    # Note that this excludes the column corresponding to the \"magic index,\"\n",
    "    # because the corresponding entry of the factor is the constant trace value,\n",
    "    # not something that we need to solve for.\n",
    "    mdoubleprime = mprime[:,good_inds_del]\n",
    "    \n",
    "    # this is the right-hand side of equation (39) in the paper, also denoted\n",
    "    # \\mathbf{b}_{\\ell}(t) in equation (40).\n",
    "    bellvec = bvec - bigmat[:,-1]\n",
    "    \n",
    "    # multiplying the pseudoinverse by a vector is *equivalent*\n",
    "    # to solving a least squares problem, which is what we do here;\n",
    "    # by doing it this way, we avoid forming the full matrix pseudoinverse\n",
    "    #\n",
    "    # for other comments, see the corresponding comments in the \"firststep\" function\n",
    "    xxapproxtup = jnp.linalg.lstsq(mdoubleprime, bellvec, 1e-12 )\n",
    "    xxapprox = jnp.real( xxapproxtup[0] )\n",
    "    \n",
    "    # please see the comments in the \"firststep\" function for the explanation\n",
    "    # of why xxapprox2 is defined in this way\n",
    "    xxapprox2 = jnp.concatenate([xxapprox[:split],jnp.array([1.0]),-xxapprox[split:]])\n",
    "    \n",
    "    # Having inserted the 1.0 in the right slot, we need to use smatJNP\n",
    "    # restricted to the good indices (which includes the magic index)\n",
    "    # to reconstruct the Hermitian full CI density matrix, which we then\n",
    "    # unflatten by reshaping it into a matrix of size drcCI x drcCI.\n",
    "    recon = (smatJNP[:,good_inds] @ xxapprox2).reshape((drcCI,drcCI))\n",
    "    \n",
    "    # propagate the full TDCI density matrix via one step of MMUT!\n",
    "    reconprop = allpropJNP[j,:,:] @ recon @ allpropJNP[j,:,:].conj().T\n",
    "    \n",
    "    # compute and store new rdm\n",
    "    rdmMO = rdmMO.at[j+1].set( (reconprop.reshape((-1)) @ bigtensJNP).conj() )\n",
    "    \n",
    "    # compute and store new residual\n",
    "    residuals = residuals.at[j].set(jnp.linalg.norm(mdoubleprime @ xxapprox - bellvec))\n",
    "        \n",
    "    return (rdmMO, newstack, residuals)"
   ]
  },
  {
   "cell_type": "code",
   "execution_count": 26,
   "id": "9a0ba370-dc50-4581-b702-fdbc01da5b88",
   "metadata": {},
   "outputs": [],
   "source": [
    "# initialize empty lists to store things\n",
    "rdmMOs = []\n",
    "MSEs = []\n",
    "residuals = []"
   ]
  },
  {
   "cell_type": "code",
   "execution_count": 27,
   "id": "4c4f8327-c866-44bd-a6c4-84cdbfee6450",
   "metadata": {},
   "outputs": [],
   "source": [
    "# JIT compilation\n",
    "jloopbody = jit(loopbody)"
   ]
  },
  {
   "cell_type": "code",
   "execution_count": 34,
   "id": "b21ead19-7d21-4b81-b199-94d4eb90c3eb",
   "metadata": {},
   "outputs": [],
   "source": [
    "# which time delays do we want to consider\n",
    "ells = np.arange(300,302,2)"
   ]
  },
  {
   "cell_type": "code",
   "execution_count": 35,
   "id": "725a41ce-8584-4ee4-89e1-955556478c37",
   "metadata": {},
   "outputs": [
    {
     "name": "stdout",
     "output_type": "stream",
     "text": [
      "23.564387559890747\n",
      "(4.3816108453993845e-16+1.029357934571285e-28j)\n",
      "5.217735914406824e-12\n"
     ]
    }
   ],
   "source": [
    "# for each time delay, we run our 1RDM propagation code\n",
    "for ell in ells:\n",
    "    # start timer to measure wall clock time\n",
    "    start = time.time()\n",
    "    \n",
    "    # here we initialize and take the first step\n",
    "    myrdmMOinitblock = jnp.transpose(newrdmMO[:ell+1,:,:],(0,2,1)).reshape((-1,drc**2))\n",
    "    firstnewrdmMO, newstack = firststep(myrdmMOinitblock)\n",
    "    \n",
    "    # here we take all subsequent steps\n",
    "    numsteps = newrdmMO.shape[0]\n",
    "    myrdmMO = jnp.concatenate([myrdmMOinitblock, jnp.expand_dims(firstnewrdmMO,0), \n",
    "                               jnp.zeros((numsteps-(ell+2), drc**2), dtype=np.complex128)])\n",
    "    residual = jnp.zeros((numsteps-1-ell-1))\n",
    "    outtup = lax.fori_loop(ell+1,numsteps-1,jloopbody,(myrdmMO,newstack,residual))\n",
    "    \n",
    "    # end timer to measure wall clock time\n",
    "    end = time.time()\n",
    "    \n",
    "    # display elapsed wall clock time\n",
    "    print(end-start)\n",
    "    \n",
    "    # now all the propagation is done, and so we extract metrics and results\n",
    "    myrdmMO = outtup[0]\n",
    "    MSE = jnp.mean(jnp.square(myrdmMO[ell+1:].reshape((-1,drc,drc)).conj() - newrdmMO[ell+1:]))\n",
    "    MSEs.append(MSE)\n",
    "    myresidual = outtup[2]\n",
    "    rdmMOs.append(myrdmMO)\n",
    "    residuals.append(myresidual[-1])\n",
    "    print(MSEs[-1])\n",
    "    print(residuals[-1])"
   ]
  },
  {
   "cell_type": "code",
   "execution_count": 36,
   "id": "713ca881-8357-4c33-ac4b-306f969df7a1",
   "metadata": {},
   "outputs": [
    {
     "name": "stdout",
     "output_type": "stream",
     "text": [
      "(4.3816108453993845e-16+1.029357934571285e-28j)\n"
     ]
    }
   ],
   "source": [
    "print(jnp.mean(jnp.square(myrdmMO[ell+1:].reshape((-1,drc,drc)).conj() - newrdmMO[ell+1:])))"
   ]
  },
  {
   "cell_type": "code",
   "execution_count": 37,
   "id": "5cfb4984-6b94-41c4-bf01-4a15133b62ce",
   "metadata": {},
   "outputs": [
    {
     "data": {
      "text/plain": [
       "Array([[1.50050092-6.9388939e-18j, 0.        -0.0000000e+00j],\n",
       "       [0.        -0.0000000e+00j, 0.4994991 -0.0000000e+00j]],      dtype=complex128)"
      ]
     },
     "execution_count": 37,
     "metadata": {},
     "output_type": "execute_result"
    }
   ],
   "source": [
    "myrdmMO[10000,:].reshape((2,2))"
   ]
  },
  {
   "cell_type": "code",
   "execution_count": 38,
   "id": "d5be7df2-2c54-4e36-9307-bca6fe7971e0",
   "metadata": {},
   "outputs": [
    {
     "data": {
      "text/plain": [
       "array([[ 1.50050093e+00-1.19262239e-18j, -2.24579678e-14+2.81646843e-14j],\n",
       "       [-2.24579678e-14-2.81646843e-14j,  4.99499084e-01-7.80625564e-18j]])"
      ]
     },
     "execution_count": 38,
     "metadata": {},
     "output_type": "execute_result"
    }
   ],
   "source": [
    "newrdmMO[10000,:].reshape((2,2))"
   ]
  },
  {
   "cell_type": "code",
   "execution_count": null,
   "id": "afa0eb7c-3298-4909-9791-e6cb55ba2145",
   "metadata": {},
   "outputs": [],
   "source": []
  }
 ],
 "metadata": {
  "kernelspec": {
   "display_name": "jax2025",
   "language": "python",
   "name": "jax2025"
  },
  "language_info": {
   "codemirror_mode": {
    "name": "ipython",
    "version": 3
   },
   "file_extension": ".py",
   "mimetype": "text/x-python",
   "name": "python",
   "nbconvert_exporter": "python",
   "pygments_lexer": "ipython3",
   "version": "3.9.23"
  }
 },
 "nbformat": 4,
 "nbformat_minor": 5
}
