{
 "cells": [
  {
   "cell_type": "code",
   "execution_count": 1,
   "id": "93be9507-1d7b-4077-bcd7-82716b175969",
   "metadata": {},
   "outputs": [],
   "source": [
    "import numpy as np\n",
    "from gauss_hf import *"
   ]
  },
  {
   "cell_type": "code",
   "execution_count": 2,
   "id": "2b7479e7-4178-429d-aba6-ecaba4a4f89a",
   "metadata": {},
   "outputs": [],
   "source": [
    "testp = '../tdcis_data/cis-30roots_s0_heh+_sto-3g.log'"
   ]
  },
  {
   "cell_type": "code",
   "execution_count": 3,
   "id": "2572296e-ffab-474a-a10e-ee860a3ea105",
   "metadata": {},
   "outputs": [
    {
     "name": "stdout",
     "output_type": "stream",
     "text": [
      "\n",
      "Reading data from ../tdcis_data/cis-30roots_s0_heh+_sto-3g.log...\n",
      "\tGaussian .LOG data read.\n",
      "\n"
     ]
    }
   ],
   "source": [
    "datafile = log_data(testp)"
   ]
  },
  {
   "cell_type": "code",
   "execution_count": 4,
   "id": "92c560f6-b0e4-4c03-a02f-1b82083135c0",
   "metadata": {},
   "outputs": [],
   "source": [
    "dipX = datafile.get_dipole_x_AO()\n",
    "dipY = datafile.get_dipole_y_AO()\n",
    "dipZ = datafile.get_dipole_z_AO()"
   ]
  },
  {
   "cell_type": "code",
   "execution_count": 5,
   "id": "7f105a41-1640-473a-94b6-5f3daf3c821a",
   "metadata": {},
   "outputs": [],
   "source": [
    "def prefixCIS(mol, basis):\n",
    "    # check if molecule is represented\n",
    "    if mol=='heh+' or mol=='h2':\n",
    "        if basis=='sto-3g' or basis=='6-31g':\n",
    "            prefix = 'cis-30roots_s0_'\n",
    "    elif mol=='lih' and basis=='sto-3g':\n",
    "        prefix = 'cis-30roots_s0_'\n",
    "    else:\n",
    "        print(\"Error: molecular system not recognized!\")\n",
    "        return 1\n",
    "    return prefix\n"
   ]
  },
  {
   "cell_type": "code",
   "execution_count": 6,
   "id": "a834b0f0-1df4-4f16-9c06-8a0f92d3feac",
   "metadata": {},
   "outputs": [],
   "source": [
    "def get_MOs_CIS(mol, basis, path='../tdcis_data/'):\n",
    "    ident = prefixCIS(mol,basis)+mol+'_'+basis\n",
    "    f = open(path+ident+'.log','r')\n",
    "    extract = False\n",
    "    NMO = 0\n",
    "    for x in f:\n",
    "        if \"Eigenvalues and eigenvectors of Harris matrix:\" in x:\n",
    "            extract = True\n",
    "            continue\n",
    "        if extract:\n",
    "            strlist = x.split()\n",
    "            if len(strlist) > 0:\n",
    "                if strlist[0] == 'Eigenvalues':\n",
    "                    NMO = len(strlist) - 2\n",
    "                    MO = np.zeros((NMO, NMO))\n",
    "                    MOcount = 0\n",
    "                    continue\n",
    "                elif strlist[0] == 'Harris':\n",
    "                    break\n",
    "            if NMO > 0:\n",
    "                for j in range(NMO):\n",
    "                    MO[MOcount, j] = float(strlist[1 + j])\n",
    "                MOcount += 1\n",
    "\n",
    "    return MO"
   ]
  },
  {
   "cell_type": "code",
   "execution_count": 7,
   "id": "120b4f09-119c-4437-869e-7060af7cb717",
   "metadata": {},
   "outputs": [],
   "source": [
    "def get_S0den_CIS(mol, basis, path='../tdcis_data/'):\n",
    "    ident = prefixCIS(mol,basis)+mol+'_'+basis\n",
    "    f = open(path+ident+'.log','r')\n",
    "    extract = False\n",
    "    NMO = 0\n",
    "    MOcount = 0\n",
    "    for x in f:\n",
    "        if \"Final density matrix:\" in x:\n",
    "            extract = True\n",
    "            continue\n",
    "        if extract:\n",
    "            strlist = x.split()\n",
    "            NMO = len(strlist)\n",
    "            S0den = np.zeros((NMO, NMO))\n",
    "            extract = False\n",
    "            continue\n",
    "        if NMO > 0 and MOcount < NMO:\n",
    "            strlist = x.split()\n",
    "            for j in range(MOcount+1):\n",
    "                S0den[MOcount, j] = np.float64(strlist[1 + j].replace(\"D\",\"e\"))\n",
    "                if MOcount != j:\n",
    "                    S0den[j, MOcount] = S0den[MOcount, j]\n",
    "            MOcount += 1\n",
    "\n",
    "    return S0den"
   ]
  },
  {
   "cell_type": "code",
   "execution_count": 8,
   "id": "ad92503e-2c85-449e-a5de-801866e29da8",
   "metadata": {},
   "outputs": [],
   "source": [
    "def get_Sjden_CIS(mol, basis, j, path='../tdcis_data/'):\n",
    "    ident = prefixCIS(mol,basis)+mol+'_'+basis\n",
    "    f = open(path+ident+'.log','r')\n",
    "    extract = False\n",
    "    skip = False\n",
    "    startden = False\n",
    "    NMO = 0\n",
    "    MOcount = 0\n",
    "    for x in f:\n",
    "        if \"Excited State   \" + str(j) in x:\n",
    "            extract = True\n",
    "            continue\n",
    "        if extract and \"CIS Density (Total):\" in x:\n",
    "            skip = True\n",
    "            continue\n",
    "        if extract and skip:\n",
    "            strlist = x.split()\n",
    "            NMO = len(strlist)\n",
    "            Sjden = np.zeros((NMO, NMO))\n",
    "            extract = False\n",
    "            startden = True\n",
    "            continue\n",
    "        if startden and MOcount < NMO:\n",
    "            strlist = x.split()\n",
    "            for j in range(MOcount+1):\n",
    "                Sjden[MOcount, j] = np.float64(strlist[1 + j].replace(\"D\",\"e\"))\n",
    "                if MOcount != j:\n",
    "                    Sjden[j, MOcount] = Sjden[MOcount, j]\n",
    "            MOcount += 1\n",
    "\n",
    "    return Sjden"
   ]
  },
  {
   "cell_type": "code",
   "execution_count": 9,
   "id": "d222d8c4-bf5a-416b-bb83-55a7b952bdb9",
   "metadata": {},
   "outputs": [],
   "source": [
    "# get transition densities from state 0 to state j\n",
    "# here state 1 means first excited state, etc...\n",
    "# numexcited = (total number of CI states) - 1\n",
    "#            = total number of CI excited states\n",
    "def get_trans0dens_CIS(mol, basis, numexcited, path='../tdcis_data/'):\n",
    "    ident = prefixCIS(mol,basis)+mol+'_'+basis\n",
    "    f = open(path+ident+'.log','r')\n",
    "    extract = False\n",
    "    startden = False\n",
    "    whichstate = 1\n",
    "    alldens = []\n",
    "    for x in f:\n",
    "        if whichstate > numexcited:\n",
    "            break\n",
    "        if \"Alpha transition density to state          \" + str(whichstate) in x:\n",
    "            extract = True\n",
    "            ind = 0\n",
    "            startden = False\n",
    "            NMO = 0\n",
    "            MOcount = 0\n",
    "            continue\n",
    "        if \"Beta transition density to state          \" + str(whichstate) in x:\n",
    "            extract = True\n",
    "            ind = 1\n",
    "            startden = False\n",
    "            NMO = 0\n",
    "            MOcount = 0\n",
    "            continue\n",
    "        if extract:\n",
    "            strlist = x.split()\n",
    "            NMO = len(strlist)\n",
    "            if ind==0:\n",
    "                Sjden = np.zeros((NMO, NMO, 2))\n",
    "            startden = True\n",
    "            extract = False\n",
    "            continue\n",
    "        if startden and MOcount < NMO:\n",
    "            strlist = x.split()\n",
    "            for j in range(NMO):\n",
    "                Sjden[MOcount, j, ind] = np.float64(strlist[1 + j].replace(\"D\",\"e\"))\n",
    "            MOcount += 1\n",
    "            if ind==1 and MOcount==NMO:\n",
    "                alldens.append(np.sum(Sjden,axis=2))\n",
    "                whichstate += 1\n",
    "\n",
    "    return alldens"
   ]
  },
  {
   "cell_type": "code",
   "execution_count": 10,
   "id": "e3499662-5481-4031-a0de-ffc0754fbe10",
   "metadata": {},
   "outputs": [
    {
     "name": "stdout",
     "output_type": "stream",
     "text": [
      "[[ 0.28492  1.15198]\n",
      " [ 0.81735 -0.86034]]\n"
     ]
    }
   ],
   "source": [
    "MO = get_MOs_CIS('heh+','sto-3g')\n",
    "print(MO)"
   ]
  },
  {
   "cell_type": "code",
   "execution_count": 11,
   "id": "e9ae2a62-b5d8-4698-8288-79dc1bbefe6c",
   "metadata": {},
   "outputs": [
    {
     "name": "stdout",
     "output_type": "stream",
     "text": [
      "[[0.0410154 0.177468 ]\n",
      " [0.177468  0.767882 ]]\n"
     ]
    }
   ],
   "source": [
    "S0den = get_S0den_CIS('heh+','sto-3g')\n",
    "print(S0den)"
   ]
  },
  {
   "cell_type": "code",
   "execution_count": 12,
   "id": "12931e84-b374-4c35-a9bb-69f06058f239",
   "metadata": {},
   "outputs": [
    {
     "name": "stdout",
     "output_type": "stream",
     "text": [
      "[[ 1.40823  -0.758214]\n",
      " [-0.758214  1.40823 ]]\n"
     ]
    }
   ],
   "source": [
    "S1den = get_Sjden_CIS('heh+','sto-3g',1)\n",
    "print(S1den)"
   ]
  },
  {
   "cell_type": "code",
   "execution_count": 19,
   "id": "a41332c5-2313-4477-851a-5783651d27c3",
   "metadata": {},
   "outputs": [
    {
     "name": "stdout",
     "output_type": "stream",
     "text": [
      "[array([[ 0.473612,  2.04926 ],\n",
      "       [-0.324126, -1.402446]])]\n"
     ]
    }
   ],
   "source": [
    "transden = get_trans0dens_CIS('heh+','sto-3g',1)\n",
    "print(transden)"
   ]
  },
  {
   "cell_type": "code",
   "execution_count": 28,
   "id": "a2ccf32f-268f-44a8-9c11-4de9fc92ac5e",
   "metadata": {},
   "outputs": [],
   "source": [
    "transden[0] = np.array([-3.34893882e-01, -1.44904221e+00,  2.29191033e-01,  9.91679749e-01]).reshape((2,2))"
   ]
  },
  {
   "cell_type": "code",
   "execution_count": 20,
   "id": "94679730-2b96-4769-877b-c5638530bee0",
   "metadata": {},
   "outputs": [],
   "source": [
    "# S1den[0,0] = 0.704117\n",
    "# S1den[1,0] = -0.379107\n",
    "# S1den[0,1] = -0.379107\n",
    "# S1den[1,1] = 0.704117"
   ]
  },
  {
   "cell_type": "code",
   "execution_count": 21,
   "id": "cc5e2f3f-8c7e-436e-bd3b-c6852edaf6dd",
   "metadata": {},
   "outputs": [
    {
     "data": {
      "text/plain": [
       "0.22286821001759982"
      ]
     },
     "execution_count": 21,
     "metadata": {},
     "output_type": "execute_result"
    }
   ],
   "source": [
    "-2*np.trace(S1den @ dipZ)"
   ]
  },
  {
   "cell_type": "code",
   "execution_count": 22,
   "id": "bcc43e4f-02b9-429e-91b3-d7fbb59e7df8",
   "metadata": {},
   "outputs": [],
   "source": [
    "CIdimatnpz = np.load('./logfiles/casscf22_s2_h2_sto-3g_CI_dimat.npz')"
   ]
  },
  {
   "cell_type": "code",
   "execution_count": 23,
   "id": "1069dab1-f9e6-4e87-8ce0-20a3719e7326",
   "metadata": {},
   "outputs": [
    {
     "data": {
      "text/plain": [
       "array([[-0.        , -0.        ,  3.48066017, -0.        ],\n",
       "       [-0.        , -0.        , -0.        , -0.        ],\n",
       "       [ 3.48066017, -0.        , -0.        ,  0.39423189],\n",
       "       [-0.        , -0.        ,  0.39423189, -0.        ]])"
      ]
     },
     "execution_count": 23,
     "metadata": {},
     "output_type": "execute_result"
    }
   ],
   "source": [
    "CIdimatnpz"
   ]
  },
  {
   "cell_type": "code",
   "execution_count": 24,
   "id": "73430d6a-584f-417a-bc6e-22896648cabd",
   "metadata": {},
   "outputs": [
    {
     "name": "stdout",
     "output_type": "stream",
     "text": [
      "[[1.       0.538415]\n",
      " [0.538415 1.      ]]\n"
     ]
    }
   ],
   "source": [
    "S = datafile.get_overlap_AO()\n",
    "print(S)"
   ]
  },
  {
   "cell_type": "code",
   "execution_count": 25,
   "id": "10f72718-3c18-4a01-b1d0-1d5ecc426e73",
   "metadata": {},
   "outputs": [
    {
     "data": {
      "text/plain": [
       "array([[ 1.00001191e+00, -1.51789862e-06],\n",
       "       [-1.51789862e-06,  1.00000257e+00]])"
      ]
     },
     "execution_count": 25,
     "metadata": {},
     "output_type": "execute_result"
    }
   ],
   "source": [
    "MO.T @ S @ MO"
   ]
  },
  {
   "cell_type": "code",
   "execution_count": 31,
   "id": "05108437-2ed3-4ee5-836f-6476fba4bdd1",
   "metadata": {},
   "outputs": [
    {
     "data": {
      "text/plain": [
       "array([[ 0.47361147,  2.04925515],\n",
       "       [-0.32412507, -1.40244695]])"
      ]
     },
     "execution_count": 31,
     "metadata": {},
     "output_type": "execute_result"
    }
   ],
   "source": [
    "transden[0] * -np.sqrt(2)"
   ]
  },
  {
   "cell_type": "code",
   "execution_count": 29,
   "id": "903d5746-bafa-4144-acfb-c382f631c84c",
   "metadata": {},
   "outputs": [
    {
     "data": {
      "text/plain": [
       "array([[-1.11256708, -0.87800763],\n",
       "       [-0.87800763,  0.11143411]])"
      ]
     },
     "execution_count": 29,
     "metadata": {},
     "output_type": "execute_result"
    }
   ],
   "source": [
    "# dipole moment matrix for CIS, in the CIS basis (S0, S1 basis)\n",
    "# CIS only has two states! (for this system)\n",
    "np.array([[-2*np.trace(S0den @ dipZ), -1*np.trace(transden[0] @ dipZ)],\n",
    "          [-1*np.trace(transden[0] @ dipZ), -1*np.trace(S1den @ dipZ)]])"
   ]
  },
  {
   "cell_type": "code",
   "execution_count": 192,
   "id": "f1fb7454-1c55-4838-bc1e-7688aa276643",
   "metadata": {},
   "outputs": [
    {
     "data": {
      "text/plain": [
       "array([[-0.        , -0.        ,  3.48066017, -0.        ],\n",
       "       [-0.        , -0.        , -0.        , -0.        ],\n",
       "       [ 3.48066017, -0.        , -0.        ,  0.39423189],\n",
       "       [-0.        , -0.        ,  0.39423189, -0.        ]])"
      ]
     },
     "execution_count": 192,
     "metadata": {},
     "output_type": "execute_result"
    }
   ],
   "source": [
    "CIdimatnpz"
   ]
  },
  {
   "cell_type": "code",
   "execution_count": null,
   "id": "064b6451-dd20-40af-b269-061cfd5ebdee",
   "metadata": {},
   "outputs": [],
   "source": [
    "# what are we still confused by?\n",
    "# - sqrt(2) difference between my transition dipole moments and Gaussian's (no CASSCF comparison)\n",
    "# - CASSCF transition dipole?\n",
    "# - feel good about S0 dipole\n",
    "# - not sure about CIS S1 and CASSCF S1, S2 diagonal dipole elements\n",
    "# - it's weird that S1 doesn't match (also, weirdly, CIS' S1 dipole matches CASSCF T1)\n",
    "\n",
    "# - electronic moments get printed out --> are they for ground state? \n",
    "# - get CIS to print out excited state dipole moment!\n",
    "\n",
    "# - we don't trust CIS transition density properties (including density itself)\n",
    "# - we trust CIS eigenvalues & eigenvectors\n",
    "# - we trust CASSCF\n",
    "\n",
    "# - use some other codes for h2, heh+\n",
    "# - use qchem for CIS"
   ]
  },
  {
   "cell_type": "code",
   "execution_count": 11,
   "id": "6094fc7b-fe71-474f-b89f-7602cb155ea9",
   "metadata": {},
   "outputs": [
    {
     "data": {
      "text/plain": [
       "0.772"
      ]
     },
     "execution_count": 11,
     "metadata": {},
     "output_type": "execute_result"
    }
   ],
   "source": [
    "0.2573333333 - (-0.5146666667)"
   ]
  },
  {
   "cell_type": "code",
   "execution_count": 12,
   "id": "8b927ea4-a128-454b-a88a-36bdf861609e",
   "metadata": {},
   "outputs": [
    {
     "data": {
      "text/plain": [
       "0.386"
      ]
     },
     "execution_count": 12,
     "metadata": {},
     "output_type": "execute_result"
    }
   ],
   "source": [
    "0.772/2"
   ]
  },
  {
   "cell_type": "code",
   "execution_count": null,
   "id": "74c28eab-a14f-4980-9bcb-c8dcb5a4af0e",
   "metadata": {},
   "outputs": [],
   "source": []
  }
 ],
 "metadata": {
  "kernelspec": {
   "display_name": "jax2025",
   "language": "python",
   "name": "jax2025"
  },
  "language_info": {
   "codemirror_mode": {
    "name": "ipython",
    "version": 3
   },
   "file_extension": ".py",
   "mimetype": "text/x-python",
   "name": "python",
   "nbconvert_exporter": "python",
   "pygments_lexer": "ipython3",
   "version": "3.9.23"
  }
 },
 "nbformat": 4,
 "nbformat_minor": 5
}
