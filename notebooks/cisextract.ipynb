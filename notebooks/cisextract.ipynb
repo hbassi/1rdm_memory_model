{
 "cells": [
  {
   "cell_type": "code",
   "execution_count": 1,
   "id": "42bc7a4f-9212-4f32-9b0d-0d03bd631e19",
   "metadata": {},
   "outputs": [],
   "source": [
    "import re\n",
    "import numpy as np\n",
    "import argparse\n",
    "import sys\n",
    "import itertools\n"
   ]
  },
  {
   "cell_type": "code",
   "execution_count": 2,
   "id": "d26b25b0-b8b8-427e-a29c-2a79e60cba96",
   "metadata": {},
   "outputs": [],
   "source": [
    "from functools import partial"
   ]
  },
  {
   "cell_type": "code",
   "execution_count": 3,
   "id": "13d07abf-920c-4111-8b1b-bbce378e055c",
   "metadata": {},
   "outputs": [],
   "source": [
    "def getparams(mol, basis):\n",
    "    if mol=='heh+' or mol=='h2':\n",
    "        ne = 2\n",
    "        if basis=='sto-3g':\n",
    "            k = 2\n",
    "        elif basis=='6-31g':\n",
    "            k = 4\n",
    "        else:\n",
    "            print(\"Error: molecular system not recognized!\")\n",
    "            return 1\n",
    "    elif mol=='lih':\n",
    "        ne = 4\n",
    "        if basis=='sto-3g':\n",
    "            k = 6\n",
    "        else:\n",
    "            print(\"Error: molecular system not recognized!\")\n",
    "            return 1\n",
    "    else:\n",
    "        print(\"Error: molecular system not recognized!\")\n",
    "        return 1\n",
    "\n",
    "    return k, ne"
   ]
  },
  {
   "cell_type": "code",
   "execution_count": 4,
   "id": "c8be8023-6e17-4c80-bb8a-632e88c78c9d",
   "metadata": {},
   "outputs": [],
   "source": [
    "def prefixfull(mol, basis):\n",
    "    # check if molecule is represented\n",
    "    if mol=='heh+' or mol=='h2':\n",
    "        if basis=='sto-3g':\n",
    "            prefix='casscf22_s2_'\n",
    "        elif basis=='6-31g':\n",
    "            prefix='casscf24_s15_'\n",
    "    elif mol=='lih' and basis=='sto-3g':\n",
    "        prefix='casscf46_s225_'\n",
    "    else:\n",
    "        print(\"Error: molecular system not recognized!\")\n",
    "        return 1\n",
    "    return prefix"
   ]
  },
  {
   "cell_type": "code",
   "execution_count": 5,
   "id": "213603c8-29f9-441d-87b9-17201939776a",
   "metadata": {},
   "outputs": [],
   "source": [
    "def prefixCIS(mol, basis):\n",
    "    # check if molecule is represented\n",
    "    if mol=='heh+' or mol=='h2':\n",
    "        if basis=='sto-3g' or basis=='6-31g':\n",
    "            prefix = 'cis-30roots_s0_'\n",
    "    elif mol=='lih' and basis=='sto-3g':\n",
    "        prefix = 'cis-30roots_s0_'\n",
    "    else:\n",
    "        print(\"Error: molecular system not recognized!\")\n",
    "        return 1\n",
    "    return prefix\n"
   ]
  },
  {
   "cell_type": "code",
   "execution_count": 6,
   "id": "e69a6ef7-5dfe-4d01-8ade-e7b2ae461ece",
   "metadata": {},
   "outputs": [],
   "source": [
    "def get_eigenvalues_CIS(mol, basis, path='./tdcis_data/'):\n",
    "    ident = prefixCIS(mol,basis)+mol+'_'+basis\n",
    "    extract = False\n",
    "    evals = [0.0]\n",
    "    f = open(path+ident+'.log','r')\n",
    "    for x in f:\n",
    "        if extract:\n",
    "            strlist = x.split()\n",
    "            if strlist[0]=='Root':\n",
    "                evals.append( np.float64(strlist[3]) )\n",
    "            else:\n",
    "                extract = False\n",
    "        if \"Excitation Energies [eV] at current iteration:\" in x:\n",
    "            extract = True\n",
    "    f.close()\n",
    "\n",
    "    eVenergies = np.array(evals) / 27.211386245988\n",
    "    return eVenergies "
   ]
  },
  {
   "cell_type": "code",
   "execution_count": 7,
   "id": "d4c46916-6059-49a2-8a2d-00c6565ecae2",
   "metadata": {},
   "outputs": [],
   "source": [
    "# function that creates the \\mathbf{i}(q) index mapping from the J. Math. Phys. paper\n",
    "# in the paper:\n",
    "# - k = K is the number of atomic orbitals,\n",
    "#   which is also the number of spatial molecular orbitals\n",
    "# - ne = N is the number of electrons\n",
    "# - \\mathbf{i}(q) is a mapping from q=1, ..., N_C (the number of CI basis functions)\n",
    "#   to the space {1, ..., 2K}^{N}, i.e., an N-tuple whose components tell us\n",
    "#   the precise spin-orbital assigned to each of the N electrons\n",
    "# \n",
    "# illustrative examples:\n",
    "# \n",
    "# for H2 and HeH+ (N=2) and sto-3g, K=2, so we have 2K = 4 spin-orbitals\n",
    "# i(1) = (1,2) which is 10 \n",
    "# i(2) = (3,2) which is ba (promote the spin-up or \\alpha electron)\n",
    "# i(3) = (1,4) which is ab (promote the spin-down or \\beta electron)\n",
    "# and that's all we have for CIS, whereas for full CI we have one more:\n",
    "# i(4) = (3,4) which is 01 (promote both electrons)\n",
    "#\n",
    "# for H2 and HeH+ (N=2) and 6-31g, K=4, we have 2K = 8 spin-orbitals\n",
    "# i(1) = (1,2) which is 1000\n",
    "# i(2) = (3,2) which is ba00\n",
    "# i(3) = (5,2) which is b0a0\n",
    "# i(4) = (7,2) which is b00a\n",
    "# i(5) = (1,4) which is ab00\n",
    "# i(6) = (1,6) which is a0b0\n",
    "# i(7) = (1,8) which is a00b\n",
    "#\n",
    "# for LiH (N=4) and sto-3g, K=6, so we have 2K = 12 spin-orbitals\n",
    "# i(1) = (1,2,3,4)   which is 110000\n",
    "# i(2) = (5,2,3,4)   which is b1a000\n",
    "# i(3) = (7,2,3,4)   which is b10a00\n",
    "# i(4) = (9,2,3,4)   which is b100a0\n",
    "# i(5) = (11,2,3,4)  which is b1000a\n",
    "# i(6) = (1,6,3,4)   which is a1b000\n",
    "# i(7) = (1,8,3,4)   which is a10b00\n",
    "# i(8) = (1,10,3,4)  which is a100b0\n",
    "# i(9) = (1,12,3,4)  which is a1000b\n",
    "# i(10) = (1,2,5,4)  which is 1ba000\n",
    "# i(11) = (1,2,7,4)  which is 1b0a00\n",
    "# i(12) = (1,2,9,4)  which is 1b00a0\n",
    "# i(13) = (1,2,11,4) which is 1b000a\n",
    "# i(14) = (1,2,3,6)  which is 1ab000\n",
    "# i(15) = (1,2,3,8)  which is 1a0b00\n",
    "# i(16) = (1,2,3,10) which is 1a00b0\n",
    "# i(17) = (1,2,3,12) which is 1a000b\n",
    "\n",
    "# this is only for CIS at present\n",
    "# ne = number of electrons, must be even\n",
    "def string_mapping_CIS(k, ne):\n",
    "    spins = ['a','b']\n",
    "    ground = '1' * (ne//2) + '0' * (k - ne//2)\n",
    "    allstrings = [ground]\n",
    "    occ = np.arange(ne//2)\n",
    "    for j in occ:\n",
    "        for s in spins:\n",
    "            if s=='a':\n",
    "                os = 'b'\n",
    "            else:\n",
    "                os = 'a'\n",
    "            for l in range(k):\n",
    "                # check if orbital is full\n",
    "                if ground[l]=='1':\n",
    "                    continue\n",
    "                state0 = ground\n",
    "                state1 = state0[:l] + s + state0[l + 1:]\n",
    "                state2 = state1[:j] + os + state1[j + 1:]\n",
    "                allstrings.append(state2)\n",
    "\n",
    "    return allstrings"
   ]
  },
  {
   "cell_type": "code",
   "execution_count": 8,
   "id": "fdb8718f-905c-4488-804c-3fdca38ec800",
   "metadata": {},
   "outputs": [],
   "source": [
    "def index_mapping_CIS(k, ne):\n",
    "    spins = ['a','b']\n",
    "    ground = np.arange(ne, dtype=np.int16) + 1\n",
    "    allstates = [ground]\n",
    "    for j in range(ne):\n",
    "        for l in range(ground[j], 2*k + 1, 2):\n",
    "            if l in ground:\n",
    "                continue\n",
    "            state = np.copy(ground)\n",
    "            state[j] = l\n",
    "            allstates.append(state)\n",
    "    \n",
    "    return np.stack(allstates)"
   ]
  },
  {
   "cell_type": "code",
   "execution_count": 9,
   "id": "3762a2d9-4af6-40fb-b6a8-89eea1745ec5",
   "metadata": {},
   "outputs": [],
   "source": [
    "def string_to_index(state, ne):\n",
    "    k = len(state)\n",
    "    ind = np.zeros(ne, dtype=np.int16)\n",
    "    electronsfound = 0\n",
    "    for j in range(k):\n",
    "        if state[j]=='1':\n",
    "            ind[electronsfound] = 2*j + 1\n",
    "            ind[electronsfound+1] = 2*j + 2\n",
    "            electronsfound += 2\n",
    "        if state[j]=='a':\n",
    "            ind[electronsfound] = 2*j + 1\n",
    "            electronsfound += 1\n",
    "        if state[j]=='b':\n",
    "            ind[electronsfound] = 2*j + 2 \n",
    "            electronsfound += 1\n",
    "    \n",
    "    bestperm = np.sort(ind)\n",
    "    \n",
    "    # permute the state until we find something that is as close as possible to\n",
    "    # the \"ground\" state (1, 2, ..., ne)\n",
    "\n",
    "    \"\"\"\n",
    "    permutations = list(itertools.permutations(ind))\n",
    "    mindist = -np.Inf\n",
    "    g = np.arange(ne, dtype=np.int16) + 1\n",
    "    for p in permutations:\n",
    "        diff = p - g\n",
    "        dist = np.sum(diff==0)\n",
    "        if dist > mindist:\n",
    "            mindist = dist\n",
    "            bestperm = p\n",
    "    \"\"\"\n",
    "    \n",
    "    return bestperm"
   ]
  },
  {
   "cell_type": "code",
   "execution_count": 10,
   "id": "eb0a2eba-7fb5-4a63-a94d-2a38ddba2d6a",
   "metadata": {},
   "outputs": [],
   "source": [
    "def get_strings_full(mol, basis, path='./logfiles/'):\n",
    "    ident = prefixfull(mol,basis)+mol+'_'+basis\n",
    "    f = open(path+ident+'.log','r')\n",
    "\n",
    "    strings = []\n",
    "    for line in f:\n",
    "        strsplit = line.split()\n",
    "        if len(strsplit)==5:\n",
    "            if strsplit[0]=='Configuration':\n",
    "                strings.append(strsplit[4])\n",
    "\n",
    "    f.close()\n",
    "    return strings\n"
   ]
  },
  {
   "cell_type": "code",
   "execution_count": 11,
   "id": "dab95e41-1c83-4eb3-950d-4ff412ad9716",
   "metadata": {},
   "outputs": [],
   "source": [
    "# n is the length of eVenergies, i.e., the output of geteigenvalues()\n",
    "# n is the number of CIS basis functions\n",
    "# k is the number of atomic orbitals,\n",
    "# which is also the number of characters in a Gaussian configuration string\n",
    "# ne is the number of electrons\n",
    "# iq = the i(q) described in the J. Math. Phys. paper\n",
    "def get_coefficients_CIS(mol, basis, iq, n, k, ne, path='./tdcis_data/'):\n",
    "    ident = prefixCIS(mol,basis)+mol+'_'+basis\n",
    "    extract = False\n",
    "    record = False\n",
    "    # create dictionary that maps energy \"levels\" to rows of the index_mapping\n",
    "    iqdict = {}\n",
    "    for kk in range(iq.shape[0]):\n",
    "        # print(iq[kk])\n",
    "        levels = []\n",
    "        for jj in range(ne//2):\n",
    "            levels.append( int(np.ceil(np.max(iq[kk,2*jj : 2*(jj+1)])/2.0)) )\n",
    "    \n",
    "        # levels.sort()\n",
    "        levels = tuple(levels)\n",
    "        \n",
    "        if levels not in iqdict:\n",
    "            iqdict[levels] = [kk]\n",
    "        else:\n",
    "            iqdict[levels].append(kk)\n",
    "\n",
    "    cm = np.zeros((n, iq.shape[0]))\n",
    "    cm[0,0] = 1.0\n",
    "    f = open(path+ident+'.log','r')\n",
    "    for x in f:\n",
    "        if \"Excitation energies and oscillator strengths:\" in x:\n",
    "            extract = True\n",
    "            continue\n",
    "        if extract:\n",
    "            strlist = x.split()\n",
    "            if len(strlist)>=3:\n",
    "                if strlist[0]=='Excited' and strlist[1]=='State':\n",
    "                    curstate = np.int16(strlist[2][:-1])\n",
    "                    record = True\n",
    "                    continue\n",
    "                if strlist[0]=='SavETr:':\n",
    "                    extract = False\n",
    "        if record:\n",
    "            strlist = x.split()\n",
    "            if len(strlist)>=3:\n",
    "                if strlist[1] != '->':\n",
    "                    record = False\n",
    "                else:\n",
    "                    ele = np.int16(strlist[0])\n",
    "                    ind = np.int16(strlist[2])\n",
    "                    val = np.float64(strlist[3])\n",
    "                    # figure out which pair of determinants we're talking about\n",
    "                    tuplist = np.arange(ne//2, dtype=np.int16) + 1\n",
    "                    tuplist[ele-1] = ind\n",
    "                    tup = tuple(tuplist)\n",
    "                    # spin-adapted\n",
    "                    cm[curstate, iqdict[tup][0]] = val\n",
    "                    cm[curstate, iqdict[tup][1]] = -val\n",
    "    f.close()\n",
    "\n",
    "    return cm"
   ]
  },
  {
   "cell_type": "code",
   "execution_count": 12,
   "id": "3ce7781d-7ebf-4973-9f30-39b08da0162c",
   "metadata": {},
   "outputs": [],
   "source": [
    "def slaterprod(iq, q, qp):\n",
    "    ne = iq.shape[1]\n",
    "    if q==qp:\n",
    "        ##\n",
    "        outlist = []\n",
    "        for kk in range(ne):\n",
    "            ind = int(np.ceil(iq[q,kk]/2))\n",
    "            outlist.append( [ind, ind] )\n",
    "            sgn = 1\n",
    "    else:\n",
    "        # first count the number of differences between iq[q] and iq[qp]\n",
    "        qset = set(iq[q,:])\n",
    "        qpset = set(iq[qp,:])\n",
    "        numdiff = len(qset.difference(qpset))\n",
    "\n",
    "        # now figure out the *indices* at which iq[q] and \n",
    "        diffinds = []\n",
    "        comminds = []\n",
    "        if numdiff==1:\n",
    "            for kk in range(ne):\n",
    "                testval = iq[q,kk]\n",
    "                probeind = np.where( iq[qp,:] == testval )[0]\n",
    "                if len(probeind)==0:\n",
    "                    diffinds.append(kk)\n",
    "                else:\n",
    "                    comminds.append(probeind[0])\n",
    "            \n",
    "            # comminds should now contain all but 1 index\n",
    "            # we can figure out which index that is using set difference\n",
    "            # from the list of all possible indices 0, ..., ne-1\n",
    "            diffinds.append( list(set(range(ne)).difference(set(comminds)))[0] )\n",
    "        \n",
    "        # final bits from the paper\n",
    "        outlist = []\n",
    "        sgn = 1\n",
    "        if numdiff==1:\n",
    "            if iq[q,diffinds[0]] % 2 == iq[qp,diffinds[1]] % 2:\n",
    "                a = int(np.ceil(iq[q,diffinds[0]]/2))\n",
    "                ap = int(np.ceil(iq[qp,diffinds[1]]/2))\n",
    "                outlist.append( [a, ap] )\n",
    "                sgn = (-1)**(diffinds[0] + diffinds[1])\n",
    "    return outlist, sgn"
   ]
  },
  {
   "cell_type": "code",
   "execution_count": 13,
   "id": "49674c41-4e4a-4f1b-b8c2-0d2a23cb78d6",
   "metadata": {},
   "outputs": [],
   "source": [
    "def get_MOs_full(mol, basis, path='./logfiles/'):\n",
    "    ident = prefixfull(mol,basis)+mol+'_'+basis\n",
    "    mos = []\n",
    "    fclist = []\n",
    "    extract = False\n",
    "    startEV = False\n",
    "    # first pass\n",
    "    linenum = 0\n",
    "    f = open(path+ident+'.log','r')\n",
    "    for x in f:\n",
    "        if \"FINAL COEFFICIENT MATRIX\" in x:\n",
    "            fclist.append(linenum)\n",
    "        linenum += 1\n",
    "    f.close()\n",
    "    # second pass\n",
    "    linenum = 0\n",
    "    f = open(path+ident+'.log','r')\n",
    "    for x in f:\n",
    "        if linenum == fclist[-1]:\n",
    "            extract = True\n",
    "        if extract:\n",
    "            strlist = x.split()\n",
    "            if strlist[0] == 'ROW':\n",
    "                startEV = True\n",
    "                continue\n",
    "        if extract and startEV:\n",
    "            strlist = x.split()\n",
    "            mos.append( [np.float64(j.replace(\"D\",\"e\")) for j in strlist] )\n",
    "            startEV = False\n",
    "        if \"FINAL EIGENVECTOR\" in x:\n",
    "            extract = False\n",
    "        linenum += 1\n",
    "        \n",
    "    f.close()\n",
    "    return np.stack(mos).T"
   ]
  },
  {
   "cell_type": "code",
   "execution_count": 14,
   "id": "75bec3c8-fb66-4df6-8e33-736ff15b9092",
   "metadata": {},
   "outputs": [],
   "source": [
    "mol = 'heh+'\n",
    "basis = 'sto-3g'\n",
    "\n",
    "momat = get_MOs_full(mol, basis)"
   ]
  },
  {
   "cell_type": "code",
   "execution_count": 15,
   "id": "57709854-9b4a-4235-8aa4-9faf9ff81da1",
   "metadata": {},
   "outputs": [],
   "source": [
    "S = np.eye(2)\n",
    "S[0,1] = 0.538415\n",
    "S[1,0] = 0.538415"
   ]
  },
  {
   "cell_type": "code",
   "execution_count": 16,
   "id": "457577b2-3b12-4f0d-be9f-e6fa939b6ac1",
   "metadata": {},
   "outputs": [
    {
     "name": "stdout",
     "output_type": "stream",
     "text": [
      "[[1.       0.538415]\n",
      " [0.538415 1.      ]]\n"
     ]
    }
   ],
   "source": [
    "print(S)"
   ]
  },
  {
   "cell_type": "code",
   "execution_count": 17,
   "id": "0912a1e2-74e0-4cef-8c04-a463dbd508ba",
   "metadata": {},
   "outputs": [
    {
     "data": {
      "text/plain": [
       "array([[1.00000006e+00, 3.81077153e-07],\n",
       "       [3.81077153e-07, 9.99999707e-01]])"
      ]
     },
     "execution_count": 17,
     "metadata": {},
     "output_type": "execute_result"
    }
   ],
   "source": [
    "momat.T @ S @ momat"
   ]
  },
  {
   "cell_type": "code",
   "execution_count": 18,
   "id": "e0eb384a-f528-48c2-bdbe-ccf07d146c08",
   "metadata": {},
   "outputs": [],
   "source": [
    "# iq is the output of index_mapping_CIS\n",
    "# cm = matrix of CI coefficients\n",
    "# k = number of atomic orbitals\n",
    "# ne = number of electrons\n",
    "# MOs = molecular orbitals\n",
    "def computeB(iq, cm, k, ne, MOs):\n",
    "    nc = cm.shape[0]\n",
    "    nq = iq.shape[0]\n",
    "    Bten = np.zeros((nc, nc, k, k))\n",
    "    for q in range(nq):\n",
    "        for qp in range(nq):\n",
    "            sp, sgn = slaterprod(iq, q, qp)\n",
    "            klmat = sgn*np.outer(cm[:, q], cm[:,qp])\n",
    "            for bc in sp:\n",
    "                op = np.outer( MOs[:,bc[0]-1], MOs[:,bc[1]-1] )\n",
    "                Bten += np.outer(klmat, op).reshape((nc, nc, k, k))\n",
    "    return Bten"
   ]
  },
  {
   "cell_type": "code",
   "execution_count": 19,
   "id": "2022eb64-ac92-4567-aa28-015fedf131af",
   "metadata": {},
   "outputs": [],
   "source": [
    "# iq is the output of index_mapping_CIS\n",
    "# cm = matrix of CI coefficients\n",
    "# k = number of atomic orbitals\n",
    "# ne = number of electrons\n",
    "# MOs = molecular orbitals\n",
    "def computescriptB(iq, k, ne, MOs):\n",
    "    nq = iq.shape[0]\n",
    "    Bten = np.zeros((nq, nq, k, k))\n",
    "    for q in range(nq):\n",
    "        for qp in range(nq):\n",
    "            sp, sgn = slaterprod(iq, q, qp)\n",
    "            for bc in sp:\n",
    "                Bten[q, qp, :, :] += sgn * np.outer( MOs[:,bc[0]-1], MOs[:,bc[1]-1] )\n",
    "    return Bten"
   ]
  },
  {
   "cell_type": "code",
   "execution_count": 20,
   "id": "e37721cd-afc4-4ada-9cf6-d7d3ad0c7f41",
   "metadata": {},
   "outputs": [
    {
     "name": "stdout",
     "output_type": "stream",
     "text": [
      "(2, 3)\n",
      "[[1. 0.]\n",
      " [0. 1.]]\n",
      "2\n",
      "(4, 4)\n",
      "[[2.        0.        0.        0.       ]\n",
      " [0.        0.        0.        0.       ]\n",
      " [0.        0.        0.        0.       ]\n",
      " [1.0000091 0.        0.        1.0000091]]\n"
     ]
    }
   ],
   "source": [
    "mol = 'heh+'\n",
    "basis = 'sto-3g'\n",
    "\n",
    "myk, myne = getparams(mol, basis)\n",
    "iq = index_mapping_CIS(myk, myne)\n",
    "evals = get_eigenvalues_CIS(mol, basis)\n",
    "cimat = get_coefficients_CIS(mol, basis, iq, evals.shape[0], myk, ne=myne)\n",
    "\n",
    "print(cimat.shape)\n",
    "print( np.round(cimat @ cimat.T, 2) )\n",
    "\n",
    "myMOs = np.eye(myk)\n",
    "B = computeB(iq, cimat, myk, myne, myMOs)\n",
    "nc = B.shape[0]\n",
    "nq = B.shape[2]\n",
    "print( np.linalg.matrix_rank(B.reshape((nc**2, nq**2))) )\n",
    "print((nc**2, nq**2))\n",
    "print(B.reshape((nc**2, nq**2)))"
   ]
  },
  {
   "cell_type": "code",
   "execution_count": 27,
   "id": "69baf762-59d9-45bb-a9a4-3a095fd53e52",
   "metadata": {},
   "outputs": [
    {
     "data": {
      "text/plain": [
       "-0.758214"
      ]
     },
     "execution_count": 27,
     "metadata": {},
     "output_type": "execute_result"
    }
   ],
   "source": [
    "-0.379107*2"
   ]
  },
  {
   "cell_type": "code",
   "execution_count": 58,
   "id": "939a7455-5fa5-4f7e-9d5c-7eaf4be7a60a",
   "metadata": {},
   "outputs": [
    {
     "name": "stdout",
     "output_type": "stream",
     "text": [
      "(16, 16, 4, 4)\n",
      "[[ 1.76705759e+00 -1.02738938e-02  1.27751223e-02 ... -1.47181257e-02\n",
      "  -1.10400838e-02  8.00224559e-03]\n",
      " [ 9.15933995e-16 -8.53781315e-01 -8.91527697e-01 ...  1.45322795e-03\n",
      "   1.21438161e-03 -2.23543957e-18]\n",
      " [ 3.63802143e-01  9.95146279e-02 -1.71924650e-01 ...  2.53089529e-03\n",
      "   4.40055707e-02 -1.08014300e-02]\n",
      " ...\n",
      " [-8.67361738e-18  8.93824608e-04  1.51339536e-04 ... -1.01502727e+00\n",
      "   9.36065600e-01  6.65661430e-16]\n",
      " [-8.43218657e-04 -8.45974476e-03  8.84769212e-03 ...  1.67367235e-03\n",
      "   1.59469109e-03  6.59334722e-02]\n",
      " [ 1.69859577e-03  2.56303281e-04 -4.63787547e-04 ... -1.45150072e-04\n",
      "  -1.41715725e-04  1.96677625e+00]]\n",
      "16\n",
      "0.2785413594162045\n"
     ]
    }
   ],
   "source": [
    "mol = 'heh+'\n",
    "basis = '6-31g'\n",
    "path = './logfiles/'\n",
    "\n",
    "myk, myne = getparams(mol, basis)\n",
    "prefix = prefixfull(mol, basis)\n",
    "str_to_ind = partial(string_to_index, ne=myne)\n",
    "iq = np.stack(list(map(str_to_ind, get_strings_full(mol, basis))))\n",
    "\n",
    "evals = np.load(path + prefix + mol + '_' + basis +'_hamiltonian.npy')\n",
    "cimat = np.load(path + prefix + mol + '_' + basis +'_ci_coefficients.npy')\n",
    "# print(cimat.shape)\n",
    "# print( np.round(cimat @ cimat.T, 2) )\n",
    "\n",
    "# this agrees with Hardeep's old code\n",
    "# myMOs = get_MOs_full(mol, basis, myk)\n",
    "# print(myMOs)\n",
    "\n",
    "# for orthonormal MOs\n",
    "myMOs = np.eye(myk)\n",
    "\n",
    "# S = np.eye(2)\n",
    "# S[0,1] = 0.538415\n",
    "# S[1,0] = 0.538415\n",
    "# myMOs.T @ S @ myMOs\n",
    "\n",
    "B = computeB(iq, cimat, myk, myne, myMOs)\n",
    "print(B.shape)\n",
    "nc = B.shape[0]\n",
    "nq = B.shape[2]\n",
    "Bmat = B.reshape((nc**2, nq**2))\n",
    "print(Bmat)\n",
    "print( np.linalg.matrix_rank(Bmat) )\n",
    "\n",
    "# print( np.linalg.pinv(Bmat.T) )\n",
    "# print( Bmat.T @ np.linalg.pinv(Bmat.T) )\n",
    "\n",
    "Bsaved = np.load(path + prefix + mol + '_' + basis +'_tensor.npy')\n",
    "print(np.mean(np.abs(Bsaved.reshape((nc**2, nq**2)) - Bmat)))"
   ]
  },
  {
   "cell_type": "code",
   "execution_count": 59,
   "id": "6ff9d41d-9bd3-4106-861a-686cfc784eae",
   "metadata": {},
   "outputs": [
    {
     "data": {
      "text/plain": [
       "(256, 16)"
      ]
     },
     "execution_count": 59,
     "metadata": {},
     "output_type": "execute_result"
    }
   ],
   "source": [
    "Bmat.shape"
   ]
  },
  {
   "cell_type": "code",
   "execution_count": 60,
   "id": "2ea93606-2376-4885-b09c-8feef4794ce1",
   "metadata": {},
   "outputs": [],
   "source": [
    "avec = np.random.normal(size=16) + 1j*np.random.normal(size=16)"
   ]
  },
  {
   "cell_type": "code",
   "execution_count": 61,
   "id": "001ae26c-3581-4768-8cef-a37f7ef7872a",
   "metadata": {},
   "outputs": [],
   "source": [
    "avec /= np.sqrt(np.sum(np.abs(avec)**2))"
   ]
  },
  {
   "cell_type": "code",
   "execution_count": 62,
   "id": "8367b65f-a55d-4934-898c-52603b96b598",
   "metadata": {},
   "outputs": [
    {
     "data": {
      "text/plain": [
       "1.0"
      ]
     },
     "execution_count": 62,
     "metadata": {},
     "output_type": "execute_result"
    }
   ],
   "source": [
    "np.sum(np.abs(avec)**2)"
   ]
  },
  {
   "cell_type": "code",
   "execution_count": 63,
   "id": "34774c39-54fa-47c6-ad13-3e2a41d3ffba",
   "metadata": {},
   "outputs": [
    {
     "name": "stdout",
     "output_type": "stream",
     "text": [
      "(16, 1)\n"
     ]
    }
   ],
   "source": [
    "av = np.expand_dims(avec, 1)\n",
    "print(av.shape)"
   ]
  },
  {
   "cell_type": "code",
   "execution_count": 64,
   "id": "f5b49bff-6ca1-4422-ba5d-d2ae0888fe03",
   "metadata": {},
   "outputs": [],
   "source": [
    "pmat = av @ av.conj().T"
   ]
  },
  {
   "cell_type": "code",
   "execution_count": 65,
   "id": "7dfb9adb-7b89-488f-bb9a-098a18941cae",
   "metadata": {},
   "outputs": [
    {
     "name": "stdout",
     "output_type": "stream",
     "text": [
      "(1+0j)\n"
     ]
    }
   ],
   "source": [
    "print(np.trace(pmat))"
   ]
  },
  {
   "cell_type": "code",
   "execution_count": 68,
   "id": "eedfcc5c-fbab-42f8-b1a8-c485c38c232f",
   "metadata": {},
   "outputs": [
    {
     "data": {
      "text/plain": [
       "array([[ 0.51651966-1.40387241e-17j,  0.02909719+8.11298718e-02j,\n",
       "        -0.09672025+8.12477166e-04j, -0.18949127+4.29058961e-02j],\n",
       "       [ 0.02909719-8.11298718e-02j,  0.32609568+6.07153217e-18j,\n",
       "         0.2272736 +3.28681385e-02j, -0.01584066+8.88849943e-02j],\n",
       "       [-0.09672025-8.12477166e-04j,  0.2272736 -3.28681385e-02j,\n",
       "         0.57093488+5.63785130e-18j, -0.15752821-6.80084299e-02j],\n",
       "       [-0.18949127-4.29058961e-02j, -0.01584066-8.88849943e-02j,\n",
       "        -0.15752821+6.80084299e-02j,  0.58644979-3.46944695e-18j]])"
      ]
     },
     "execution_count": 68,
     "metadata": {},
     "output_type": "execute_result"
    }
   ],
   "source": [
    "(pmat.reshape((-1)) @ (Bmat).reshape((256,16))).reshape((4,4))"
   ]
  },
  {
   "cell_type": "code",
   "execution_count": null,
   "id": "2b6916b0-12ad-4d17-9b74-0ea0f4749bad",
   "metadata": {},
   "outputs": [],
   "source": []
  }
 ],
 "metadata": {
  "kernelspec": {
   "display_name": "jax2024",
   "language": "python",
   "name": "jax2024"
  },
  "language_info": {
   "codemirror_mode": {
    "name": "ipython",
    "version": 3
   },
   "file_extension": ".py",
   "mimetype": "text/x-python",
   "name": "python",
   "nbconvert_exporter": "python",
   "pygments_lexer": "ipython3",
   "version": "3.9.19"
  }
 },
 "nbformat": 4,
 "nbformat_minor": 5
}
