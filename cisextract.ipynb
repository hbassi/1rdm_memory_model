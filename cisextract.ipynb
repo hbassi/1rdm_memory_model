{
 "cells": [
  {
   "cell_type": "code",
   "execution_count": 1,
   "id": "42bc7a4f-9212-4f32-9b0d-0d03bd631e19",
   "metadata": {},
   "outputs": [
    {
     "name": "stdout",
     "output_type": "stream",
     "text": [
      "cis-30roots_s0_lih_sto-3g\n"
     ]
    }
   ],
   "source": [
    "import re\n",
    "import numpy as np\n",
    "import argparse\n",
    "import sys\n",
    "\n",
    "mol = 'lih'\n",
    "basis = 'sto-3g'\n",
    "\n",
    "path = './tdcis_data/'\n",
    "prefix = 'cis-30roots_s0_'\n",
    "\n",
    "# construct prefix used to load and save files\n",
    "if basis!='sto-3g' and basis!='6-31g':\n",
    "    print(\"Error: basis set not recognized! Must choose either sto-3g or 6-31g\")\n",
    "    sys.exit(1)\n",
    "\n",
    "\n",
    "ident = prefix+mol+'_'+basis\n",
    "print(ident)"
   ]
  },
  {
   "cell_type": "code",
   "execution_count": 2,
   "id": "e69a6ef7-5dfe-4d01-8ade-e7b2ae461ece",
   "metadata": {},
   "outputs": [],
   "source": [
    "def geteigenvalues():\n",
    "    extract = False\n",
    "    evals = [0.0]\n",
    "    f = open(path+ident+'.log','r')\n",
    "    for x in f:\n",
    "        if extract:\n",
    "            strlist = x.split()\n",
    "            if strlist[0]=='Root':\n",
    "                evals.append( np.float64(strlist[3]) )\n",
    "            else:\n",
    "                extract = False\n",
    "        if \"Excitation Energies [eV] at current iteration:\" in x:\n",
    "            extract = True\n",
    "    f.close()\n",
    "\n",
    "    eVenergies = np.array(evals) / 27.211386245988\n",
    "    return eVenergies "
   ]
  },
  {
   "cell_type": "code",
   "execution_count": 3,
   "id": "aa352576-6ec8-40fb-a434-65dfec87d4f2",
   "metadata": {},
   "outputs": [],
   "source": [
    "# n is the length of eVenergies, i.e., the output of geteigenvalues()\n",
    "# n is a function of the number of AOs (atomic orbitals)\n",
    "# ne, the number of electrons, which at present must be even\n",
    "def getCIcoefficients(n, ne=2):\n",
    "    extract = False\n",
    "    record = False\n",
    "    cm = np.zeros((n, n*ne-1))\n",
    "    cm[0,0] = 1.0\n",
    "    f = open(path+ident+'.log','r')\n",
    "    for x in f:\n",
    "        if \"Excitation energies and oscillator strengths:\" in x:\n",
    "            extract = True\n",
    "            continue\n",
    "        if extract:\n",
    "            strlist = x.split()\n",
    "            if len(strlist)>=3:\n",
    "                if strlist[0]=='Excited' and strlist[1]=='State':\n",
    "                    curstate = np.int16(strlist[2][:-1])\n",
    "                    record = True\n",
    "                    continue\n",
    "                if strlist[0]=='SavETr:':\n",
    "                    extract = False\n",
    "        if record:\n",
    "            strlist = x.split()\n",
    "            if len(strlist)>=3:\n",
    "                if strlist[1] != '->':\n",
    "                    record = False\n",
    "                else:\n",
    "                    ele = np.int16(strlist[0])\n",
    "                    ind = np.int16(strlist[2])\n",
    "                    val = np.float64(strlist[3])\n",
    "                    # spin-adapted\n",
    "                    offset = (n-1)*(ele-1)\n",
    "                    cm[curstate, offset + 2*ind - 3] = val\n",
    "                    cm[curstate, offset + 2*ind - 2] = -val\n",
    "    f.close()\n",
    "\n",
    "    return cm"
   ]
  },
  {
   "cell_type": "code",
   "execution_count": 4,
   "id": "9e9344cb-8ff9-41a6-b964-beca392ca79d",
   "metadata": {},
   "outputs": [],
   "source": [
    "evals = geteigenvalues()"
   ]
  },
  {
   "cell_type": "code",
   "execution_count": 5,
   "id": "28d3ff4e-ef05-4a87-8e91-fa39d5a97b0e",
   "metadata": {},
   "outputs": [],
   "source": [
    "cimat = getCIcoefficients(evals.shape[0], 4)"
   ]
  },
  {
   "cell_type": "code",
   "execution_count": 6,
   "id": "435fcc05-8ce6-46b5-a37f-b573639f51ed",
   "metadata": {},
   "outputs": [
    {
     "data": {
      "text/plain": [
       "(9, 35)"
      ]
     },
     "execution_count": 6,
     "metadata": {},
     "output_type": "execute_result"
    }
   ],
   "source": [
    "cimat.shape"
   ]
  },
  {
   "cell_type": "code",
   "execution_count": 7,
   "id": "439ddd7e-6db1-452a-b078-01256f85f605",
   "metadata": {},
   "outputs": [
    {
     "data": {
      "text/plain": [
       "array([[ 1.,  0.,  0.,  0.,  0.,  0.,  0.,  0.,  0.],\n",
       "       [ 0.,  1.,  0.,  0., -0.,  0.,  0.,  0.,  0.],\n",
       "       [ 0.,  0.,  1.,  0.,  0.,  0.,  0., -0.,  0.],\n",
       "       [ 0.,  0.,  0.,  1.,  0.,  0., -0., -0.,  0.],\n",
       "       [ 0., -0.,  0.,  0.,  1., -0.,  0.,  0., -0.],\n",
       "       [ 0.,  0.,  0.,  0., -0.,  1.,  0.,  0., -0.],\n",
       "       [ 0.,  0.,  0., -0.,  0.,  0.,  1., -0.,  0.],\n",
       "       [ 0.,  0., -0., -0.,  0.,  0., -0.,  1.,  0.],\n",
       "       [ 0.,  0.,  0.,  0., -0., -0.,  0.,  0.,  1.]])"
      ]
     },
     "execution_count": 7,
     "metadata": {},
     "output_type": "execute_result"
    }
   ],
   "source": [
    "np.round(cimat @ cimat.T, 2)"
   ]
  },
  {
   "cell_type": "code",
   "execution_count": null,
   "id": "d4c46916-6059-49a2-8a2d-00c6565ecae2",
   "metadata": {},
   "outputs": [],
   "source": []
  }
 ],
 "metadata": {
  "kernelspec": {
   "display_name": "jax2024",
   "language": "python",
   "name": "jax2024"
  },
  "language_info": {
   "codemirror_mode": {
    "name": "ipython",
    "version": 3
   },
   "file_extension": ".py",
   "mimetype": "text/x-python",
   "name": "python",
   "nbconvert_exporter": "python",
   "pygments_lexer": "ipython3",
   "version": "3.9.19"
  }
 },
 "nbformat": 4,
 "nbformat_minor": 5
}
