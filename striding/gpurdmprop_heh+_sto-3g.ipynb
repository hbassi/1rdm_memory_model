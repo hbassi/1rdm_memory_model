{
 "cells": [
  {
   "cell_type": "code",
   "execution_count": null,
   "id": "9e9a1936",
   "metadata": {
    "tags": []
   },
   "outputs": [],
   "source": [
    "import numpy as np\n",
    "import matplotlib\n",
    "import matplotlib.pyplot as plt\n",
    "\n",
    "import scipy.integrate as si\n",
    "import scipy.optimize as so\n",
    "import scipy.linalg as sl\n",
    "\n",
    "import time\n",
    "\n",
    "from numba import njit\n",
    "from tqdm import trange"
   ]
  },
  {
   "cell_type": "code",
   "execution_count": null,
   "id": "29b904ff",
   "metadata": {
    "tags": []
   },
   "outputs": [],
   "source": [
    "P = np.load('casscf22_s2_heh+_sto-3g_tensor.npz')\n",
    "dimat = np.array([[-1.0724436,0.0,1.6277593,0.2589907],[0.0,0.1114341,0.0,0.0],[1.6277593,0.0,-0.2712937,0.0676768],[0.2589907,0.0,0.0676768,1.6780414]])"
   ]
  },
  {
   "cell_type": "code",
   "execution_count": null,
   "id": "1e9b93dc",
   "metadata": {
    "tags": []
   },
   "outputs": [],
   "source": [
    "trajectory_number = 135\n",
    "mol = 'heh+'\n",
    "method = 'tdcasscf'\n",
    "prefix = './dt0.008268/'\n",
    "trajnum = trajectory_number\n",
    "traj = str(trajnum).zfill(3)\n",
    "fname = prefix + 'time_coeffs.' + method + '_' + mol + '_sto-3g_' + traj + '_dt=0.008268au.txt'\n",
    "tdcicoeffs = np.loadtxt(fname,dtype=np.complex128)"
   ]
  },
  {
   "cell_type": "code",
   "execution_count": null,
   "id": "7991e13b",
   "metadata": {
    "tags": []
   },
   "outputs": [],
   "source": [
    "ham = np.load('casscf22_s2_heh+_sto-3g_hamiltonian.npz')\n",
    "ham = ham - np.diag([np.min(ham)]*ham.shape[0])"
   ]
  },
  {
   "cell_type": "code",
   "execution_count": null,
   "id": "1f0f9b25",
   "metadata": {
    "tags": []
   },
   "outputs": [],
   "source": [
    "runfile = np.load(prefix+'tdcasscf_heh+_sto-3g_'+str(trajnum).zfill(3)+'_dt=0.008268au.npz')\n",
    "mydt = runfile['dt_au'].item()\n",
    "print(mydt)"
   ]
  },
  {
   "cell_type": "code",
   "execution_count": null,
   "id": "1bd9c2de",
   "metadata": {
    "tags": []
   },
   "outputs": [],
   "source": [
    "offset = 0\n",
    "tvec = np.arange(offset,offset+tdcicoeffs.shape[0])*runfile['dt_au']\n",
    "tmeoff = runfile['ncyc']*2*np.pi/runfile['freq']\n",
    "ef = (tvec>=0)*(tvec<=tmeoff)*(runfile['emax'])*np.sin(runfile['freq']*tvec)"
   ]
  },
  {
   "cell_type": "code",
   "execution_count": null,
   "id": "8f4f5885",
   "metadata": {
    "tags": []
   },
   "outputs": [],
   "source": [
    "shape = 4\n",
    "#shape = 16\n",
    "hamCI = np.expand_dims(ham,0) - np.einsum('i,jk->ijk',ef,dimat)\n",
    "hamCI = (1+0j)*hamCI\n",
    "numhamCI = hamCI.shape[0]\n",
    "alldd = np.zeros((numhamCI,shape),dtype=np.float64)\n",
    "allvv = np.zeros((numhamCI,shape,shape),dtype=np.complex128)\n",
    "allprop = np.zeros((numhamCI,shape,shape),dtype=np.complex128)\n",
    "for i in range(numhamCI):\n",
    "    dd, vv = np.linalg.eigh(hamCI[i,:,:])\n",
    "    alldd[i,:] = dd\n",
    "    allvv[i,:,:] = vv\n",
    "    allprop[i,:,:] = vv @ np.diag(np.exp(-1j*mydt*alldd[i,:])) @ vv.conj().T\n",
    "        "
   ]
  },
  {
   "cell_type": "code",
   "execution_count": null,
   "id": "3247b72a",
   "metadata": {
    "tags": []
   },
   "outputs": [],
   "source": [
    "newtdcicoeffs = np.zeros((tdcicoeffs.shape[0],shape),dtype=np.complex128)\n",
    "newtdcicoeffs[0,0] = 1.0 \n",
    "for i in range(newtdcicoeffs.shape[0]-1):\n",
    "    newtdcicoeffs[i+1,:] = sl.expm(-1j*(ham-ef[i]*dimat)*runfile['dt_au']) @ newtdcicoeffs[i,:]\n",
    "\n",
    "bigtens = P\n",
    "S = np.array([[1.0,0.538415],[0.538415,1.0]])\n",
    "S == S.T\n",
    "\n",
    "newrdmAO_p = np.einsum('ni,nj,ijab->nab',newtdcicoeffs,np.conjugate(newtdcicoeffs),bigtens)\n",
    "traces_p = np.einsum('ijj->i', newrdmAO_p@S)\n",
    "print(np.mean(np.abs(traces_p)))"
   ]
  },
  {
   "cell_type": "code",
   "execution_count": null,
   "id": "7089022c",
   "metadata": {
    "tags": []
   },
   "outputs": [],
   "source": [
    "newrdmAO = np.einsum('ni,nj,ijab->nab',newtdcicoeffs,np.conjugate(newtdcicoeffs),bigtens)\n",
    "tdciden = np.einsum('ni,nj->nij',newtdcicoeffs,np.conj(newtdcicoeffs))"
   ]
  },
  {
   "cell_type": "code",
   "execution_count": null,
   "id": "f2b4eacd",
   "metadata": {
    "tags": []
   },
   "outputs": [],
   "source": [
    "print( np.linalg.norm(np.einsum('nij,njk->nik',tdciden,tdciden) - tdciden) )"
   ]
  },
  {
   "cell_type": "code",
   "execution_count": null,
   "id": "7ac4b9af",
   "metadata": {
    "tags": []
   },
   "outputs": [],
   "source": [
    "bigtens = bigtens.reshape((4**2,2**2)).astype(np.complex128)\n",
    "matmulrdmAO = np.einsum('ij,jk->ik',np.transpose(tdciden,axes=[0,1,2]).reshape((-1,4*4)), bigtens).reshape((-1,2,2))\n",
    "\n",
    "print( np.mean(np.abs(matmulrdmAO - newrdmAO)) )"
   ]
  },
  {
   "cell_type": "code",
   "execution_count": null,
   "id": "9b116bd7",
   "metadata": {
    "tags": []
   },
   "outputs": [],
   "source": [
    "# matrix to convert an (nxn) Hermitian matrix to its vectorized form\n",
    "drcCI = newtdcicoeffs.shape[1]\n",
    "drc = 2\n",
    "def mat2vec(n):\n",
    "    # real part\n",
    "    realmat = np.zeros((n**2,(n+1)*n//2),dtype=np.int16)\n",
    "    for i in range(n):\n",
    "        for j in range(n):\n",
    "            row = i*n + j\n",
    "            if i<=j:\n",
    "                col = i*n + j - i*(i+1)//2\n",
    "            else:\n",
    "                col = j*n + i - j*(j+1)//2\n",
    "            realmat[row,col]=1\n",
    "    j = 0\n",
    "    i = 0\n",
    "    # taking care of constant trace and we had no idea all along\n",
    "    while j < (realmat.shape[1] - 1):\n",
    "        realmat[-1,j] = -1\n",
    "        j += n - i*1\n",
    "        i += 1\n",
    "    #\n",
    "    # imaginary part\n",
    "    imagmat = np.zeros((n**2,(n-1)*n//2),dtype=np.int16)\n",
    "    for i in range(n):\n",
    "        for j in range(n):\n",
    "            row = i*n + j\n",
    "            if i<j:\n",
    "                col = i*n + j - (i+1)*(i+2)//2\n",
    "                imagmat[row,col]=1\n",
    "            if i>j:\n",
    "                col = j*n + i - (j+1)*(j+2)//2\n",
    "                imagmat[row,col]=-1\n",
    "    symmat = np.hstack([realmat, 1j*imagmat])\n",
    "    return symmat\n",
    "\n",
    "smat = mat2vec(drcCI)"
   ]
  },
  {
   "cell_type": "code",
   "execution_count": null,
   "id": "8a2a0708",
   "metadata": {
    "tags": []
   },
   "outputs": [],
   "source": [
    "def ind_to_pair_upper(n, i, j):\n",
    "    if i < j:\n",
    "        return i * (2 * n - i - 1) // 2 + j\n",
    "    else:\n",
    "        return j * (2 * n - j - 1) // 2 + i\n",
    "n = drcCI \n",
    "\n",
    "upper_mapping = {}\n",
    "\n",
    "#this is the diag upper representation\n",
    "for i in range(n):\n",
    "    for j in range(i, n):\n",
    "        k = ind_to_pair_upper(n, i, j)\n",
    "        upper_mapping[(i,j)] = k\n",
    "        \n",
    "def ind_to_pair_upper(n, i, j):\n",
    "    if i < j:\n",
    "        return i * (2 * n - i - 1) // 2 + j\n",
    "    # else:\n",
    "    #     return j * (2 * n - j - 1) // 2 + i\n",
    "n = drcCI \n",
    "\n",
    "upper_wo_diag_mapping = {}\n",
    "\n",
    "#this is the offdiag upper representation\n",
    "k=10\n",
    "for i in range(n):\n",
    "    for j in range(i+1, n):\n",
    "        upper_wo_diag_mapping[(i,j)] = k\n",
    "        k+=1"
   ]
  },
  {
   "cell_type": "code",
   "execution_count": null,
   "id": "2b21a4c3",
   "metadata": {
    "tags": []
   },
   "outputs": [],
   "source": [
    "good_cols = np.array([ 0, 2, 3])\n",
    "zero_cols = np.array([ 1])\n",
    "bad_inds = []\n",
    "del_upper = 0\n",
    "for key in list(upper_mapping.keys()):\n",
    "    for c in zero_cols:\n",
    "        if c in key:\n",
    "            #print(key, ' bad')\n",
    "            bad_inds.append(upper_mapping[key])\n",
    "            del_upper+=1\n",
    "            break\n",
    "print(del_upper)"
   ]
  },
  {
   "cell_type": "code",
   "execution_count": null,
   "id": "2da558d3",
   "metadata": {
    "tags": []
   },
   "outputs": [],
   "source": [
    "del_lower = 0\n",
    "for key in list(upper_wo_diag_mapping.keys()):\n",
    "    for c in zero_cols:\n",
    "        if c in key:\n",
    "            #print(key, ' bad')\n",
    "            bad_inds.append(upper_wo_diag_mapping[key])\n",
    "            del_lower+=1\n",
    "            break\n",
    "print(del_lower)"
   ]
  },
  {
   "cell_type": "code",
   "execution_count": null,
   "id": "a1a4f310",
   "metadata": {
    "tags": []
   },
   "outputs": [],
   "source": [
    "split = drcCI*(drcCI+1)//2-del_upper"
   ]
  },
  {
   "cell_type": "code",
   "execution_count": null,
   "id": "1b622aec",
   "metadata": {
    "tags": []
   },
   "outputs": [],
   "source": [
    "good_inds = np.delete(np.arange(0,drcCI**2),bad_inds)\n",
    "total_inds = good_inds.tolist()\n",
    "total_inds.extend(bad_inds)\n",
    "total_inds.sort()\n",
    "\n",
    "print( all(total_inds == np.arange(0,drcCI**2)) )"
   ]
  },
  {
   "cell_type": "code",
   "execution_count": null,
   "id": "f1610ed8",
   "metadata": {
    "tags": []
   },
   "outputs": [],
   "source": [
    "magicind = drcCI*(drcCI+1)//2 - 1\n",
    "good_inds_del = good_inds[good_inds!=magicind]"
   ]
  },
  {
   "cell_type": "code",
   "execution_count": null,
   "id": "774d55a0",
   "metadata": {
    "tags": []
   },
   "outputs": [],
   "source": [
    "ell = ells[0]"
   ]
  },
  {
   "cell_type": "code",
   "execution_count": null,
   "id": "6f6d8a7b",
   "metadata": {
    "tags": []
   },
   "outputs": [],
   "source": [
    "import cupy as cp"
   ]
  },
  {
   "cell_type": "code",
   "execution_count": null,
   "id": "a1ce7f4f",
   "metadata": {
    "tags": []
   },
   "outputs": [],
   "source": [
    "bigtensCP = cp.asarray(bigtens)"
   ]
  },
  {
   "cell_type": "code",
   "execution_count": null,
   "id": "c492fce5",
   "metadata": {
    "tags": []
   },
   "outputs": [],
   "source": [
    "bigtensTCP = cp.asarray(bigtens.T)"
   ]
  },
  {
   "cell_type": "code",
   "execution_count": null,
   "id": "37d43ae2",
   "metadata": {
    "tags": []
   },
   "outputs": [],
   "source": [
    "allpropCP = cp.asarray(allprop)"
   ]
  },
  {
   "cell_type": "code",
   "execution_count": null,
   "id": "e7d7b42a",
   "metadata": {
    "tags": []
   },
   "outputs": [],
   "source": [
    "smatCP = cp.asarray(smat)"
   ]
  },
  {
   "cell_type": "code",
   "execution_count": null,
   "id": "486d4669-bc35-4633-ba9a-a221e59e18bc",
   "metadata": {
    "tags": []
   },
   "outputs": [],
   "source": [
    "newrdmAOCP = cp.asarray(newrdmAO)"
   ]
  },
  {
   "cell_type": "code",
   "execution_count": null,
   "id": "e2212644",
   "metadata": {
    "tags": []
   },
   "outputs": [],
   "source": [
    "numsteps = 20001\n",
    "strides = [2,3,4,5,6,7,8]\n",
    "#strides = [10]\n",
    "ells = np.array(strides)*160\n",
    "print(ells)\n",
    "MSEs = []\n",
    "cond_nums = []\n",
    "myrdmAOs = []\n",
    "for k in range(len(strides)):\n",
    "    stride = strides[k]\n",
    "    ell = ells[k]\n",
    "    print(stride,ell)\n",
    "    myrdmAO = cp.zeros((numsteps, drc**2), dtype=cp.complex128)\n",
    "    #myrdmAO stores the tranpose of the true rdmAO\n",
    "    myrdmAO[:ell+1,:] = cp.transpose(cp.asarray(newrdmAO[:ell+1,:,:]),(0,2,1)).reshape((-1,drc**2))\n",
    "    for j in range(ell,numsteps-1):\n",
    "        if j % 2000 == 0:\n",
    "            print(j)\n",
    "        # allCmat = cp.zeros((ell,drcCI,drcCI), dtype=cp.complex128)\n",
    "\n",
    "        bigmat = cp.zeros((((drc**2)*(ell+1)),drcCI**2), dtype=cp.complex128)\n",
    "        bigmat[:drc**2,:] = bigtensTCP\n",
    "        for i in range(1,ell+1):\n",
    "            myexp = allpropCP[j-i,:,:]\n",
    "            if i==1:\n",
    "                Cmat = myexp\n",
    "            else:\n",
    "                Cmat = Cmat @ myexp\n",
    "            Amat = Cmat.conj().T\n",
    "            if i % stride != 0:\n",
    "                continue\n",
    "            bigmat[i*(drc**2):(i+1)*(drc**2),:] = bigtensTCP @ cp.kron( Cmat.T, Amat )\n",
    "            \n",
    "        bigmat_strided = bigmat.reshape((ell+1,drc**2,drcCI**2))\n",
    "        bigmat_strided = bigmat_strided[::stride,:,:].reshape((-1,drcCI**2))\n",
    "        \n",
    "        btrue = cp.flipud(myrdmAO[j-ell:(j+1),:][::stride]).reshape((-1))\n",
    "        mprime = bigmat_strided @ smatCP\n",
    "\n",
    "        # monitor singular values\n",
    "        _, ss, _ = cp.linalg.svd(mprime[:,good_inds_del]) # , compute_uv=False)\n",
    "        if cp.min(ss) < 1e-15:\n",
    "            print(\"Warning: singular value < 1e-15 detected at time step \" + str(j))\n",
    "            break\n",
    "\n",
    "        # reconstruct full TDCI density\n",
    "        xxapprox = cp.real( cp.linalg.pinv(mprime[:,good_inds_del],1e-12) @ (btrue - bigmat_strided[:,-1]) )\n",
    "        xxapprox2 = cp.concatenate([xxapprox[:split-1],cp.array([1.0]),-xxapprox[split-1:]])\n",
    "\n",
    "        recon = (smatCP[:,good_inds] @ xxapprox2).reshape((drcCI,drcCI))\n",
    "        #assert (recon == recon.conjugate().transpose()).all()\n",
    "\n",
    "        # propagate in full TDCI density space via one step of MMUT!\n",
    "        reconprop = allpropCP[j,:,:] @ recon @ allpropCP[j,:,:].conj().T\n",
    "\n",
    "        # compute new rdm\n",
    "        myrdmAO[j+1,:] = (reconprop.reshape((-1)) @ bigtensCP).conj()\n",
    "    MSE = cp.mean(cp.square(myrdmAO[ell+1:numsteps].reshape((-1,drc,drc)).conj() - newrdmAOCP[ell+1:numsteps])).item()\n",
    "    cond_num = cp.max(ss)/cp.min(ss)\n",
    "    MSEs.append(MSE)\n",
    "    cond_nums.append(cond_num)\n",
    "    myrdmAOs.append(myrdmAO)\n",
    "    print('Stride: '+str(stride)+ ' MSE: ' +str(MSE))"
   ]
  },
  {
   "cell_type": "code",
   "execution_count": null,
   "id": "b26d0b87-62e0-4a7b-a177-0ad4725330b9",
   "metadata": {
    "tags": []
   },
   "outputs": [],
   "source": [
    "fig, axs = plt.subplots(2, 2, figsize=(16, 14))\n",
    "icnt=0\n",
    "jcnt=0\n",
    "for i in range(2):\n",
    "    for j in range(2):\n",
    "        axs[i,j].plot(np.real(myrdmAO.get()[:numsteps,:].reshape((numsteps,2,2))[:,i,j]),color='red')\n",
    "        axs[i,j].plot(np.real(newrdmAO[:numsteps,i,j]),color='black')\n",
    "        axs[i,j].set_title('Re(P'+str(i)+str(j)+')')\n",
    "        axs[i,j].set_xlabel('t (a.u.)')\n",
    "        jcnt+=1\n",
    "    icnt+=1\n",
    "plt.legend(['Memory Model','Ground Truth'])\n",
    "fig.suptitle('Real HeH+ in 6-31G')\n",
    "plt.tight_layout()\n"
   ]
  },
  {
   "cell_type": "code",
   "execution_count": null,
   "id": "ff379165-7b93-4428-9a11-6af9b0531c9c",
   "metadata": {
    "tags": []
   },
   "outputs": [],
   "source": [
    "fig, axs = plt.subplots(4, 4, figsize=(16, 14))\n",
    "icnt=0\n",
    "jcnt=0\n",
    "for i in range(4):\n",
    "    for j in range(4):\n",
    "        axs[i,j].plot(np.imag(myrdmAO.get()[:numsteps,:].conj()).reshape((numsteps,4,4))[:,i,j],color='red')\n",
    "        axs[i,j].plot(np.imag(newrdmAO[:numsteps,i,j]),color='black')\n",
    "        axs[i,j].set_title('Im(P'+str(i)+str(j)+')')\n",
    "        axs[i,j].set_xlabel('t (a.u.)')\n",
    "        jcnt+=1\n",
    "    icnt+=1\n",
    "plt.legend(['Memory Model','Ground Truth'])\n",
    "fig.suptitle('Imaginary HeH+ in 6-31G')\n",
    "plt.tight_layout()\n"
   ]
  },
  {
   "cell_type": "code",
   "execution_count": null,
   "id": "bd5b32c4-0af5-4cdf-a9d6-b6db9f131ee9",
   "metadata": {},
   "outputs": [],
   "source": []
  }
 ],
 "metadata": {
  "kernelspec": {
   "display_name": "NERSC Python",
   "language": "python",
   "name": "python3"
  },
  "language_info": {
   "codemirror_mode": {
    "name": "ipython",
    "version": 3
   },
   "file_extension": ".py",
   "mimetype": "text/x-python",
   "name": "python",
   "nbconvert_exporter": "python",
   "pygments_lexer": "ipython3",
   "version": "3.11.7"
  }
 },
 "nbformat": 4,
 "nbformat_minor": 5
}
