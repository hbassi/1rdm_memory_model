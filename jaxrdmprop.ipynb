{
 "cells": [
  {
   "cell_type": "code",
   "execution_count": 1,
   "id": "17a5e964-00f7-4e5c-a595-602ee2337712",
   "metadata": {},
   "outputs": [],
   "source": [
    "from jax import config\n",
    "config.update(\"jax_enable_x64\", True)\n",
    "import jax.numpy as jnp\n",
    "from jax import jit, lax\n",
    "\n",
    "import numpy as np\n",
    "import matplotlib\n",
    "import matplotlib.pyplot as plt\n",
    "\n",
    "import scipy.integrate as si\n",
    "import scipy.optimize as so\n",
    "import scipy.linalg as sl\n",
    "\n",
    "import time\n",
    "\n",
    "from tqdm import trange\n",
    "import os \n",
    "os.environ['XLA_PYTHON_CLIENT_PREALLOCATE']='false'"
   ]
  },
  {
   "cell_type": "code",
   "execution_count": 42,
   "id": "44d0f005-d50e-43d2-8a24-0b10d3f78acb",
   "metadata": {},
   "outputs": [],
   "source": [
    "mol = 'heh+'\n",
    "basis = 'sto-3g'"
   ]
  },
  {
   "cell_type": "code",
   "execution_count": 46,
   "id": "3f9635aa-b77d-486a-b5c0-69de0af3166d",
   "metadata": {},
   "outputs": [],
   "source": [
    "# construct prefix used to load and save files\n",
    "if basis=='sto-3g':\n",
    "    prefix='casscf22_s2_'\n",
    "elif basis=='6-31g':\n",
    "    prefix='casscf24_s15_'\n",
    "else:\n",
    "    print(\"Error: basis set not recognized! Must choose either sto-3g or 6-31g\")\n",
    "    sys.exit(1)"
   ]
  },
  {
   "cell_type": "code",
   "execution_count": 47,
   "id": "4211a4b3-e392-43aa-9b58-b3e40d9679f9",
   "metadata": {},
   "outputs": [],
   "source": [
    "P = np.load('./logfiles/'+prefix+mol+'_'+basis+'_tensor.npy')\n",
    "dimat = np.load('./logfiles/'+prefix+mol+'_'+basis+'_CI_dimat.npz')"
   ]
  },
  {
   "cell_type": "code",
   "execution_count": 48,
   "id": "68f61faf-4faa-42b9-ac35-41d9d3bc32eb",
   "metadata": {},
   "outputs": [],
   "source": [
    "trajshape0 = 24218\n",
    "mydt = 0.008268\n",
    "\n",
    "# E field parameters\n",
    "freq = 1.5\n",
    "ncyc = 5\n",
    "emax = 0.5"
   ]
  },
  {
   "cell_type": "code",
   "execution_count": 49,
   "id": "ac9e4bb5-e680-4963-a390-d0ef378c413e",
   "metadata": {},
   "outputs": [],
   "source": [
    "# load diagonalized CI Hamiltonian\n",
    "ham = np.load('./logfiles/'+prefix+mol+'_'+basis+'_hamiltonian.npy')\n",
    "drcCI = ham.shape[0]\n",
    "\n",
    "# why did we do this?\n",
    "ham = ham - np.diag([np.min(ham)]*drcCI)"
   ]
  },
  {
   "cell_type": "code",
   "execution_count": 50,
   "id": "184d46fc-7c79-4890-bf14-76652149bd07",
   "metadata": {},
   "outputs": [],
   "source": [
    "offset = 0\n",
    "tvec = np.arange(offset,offset+trajshape0)*mydt\n",
    "tmeoff = ncyc*2*np.pi/freq\n",
    "ef = (tvec>=0)*(tvec<=tmeoff)*emax*np.sin(freq*tvec)"
   ]
  },
  {
   "cell_type": "code",
   "execution_count": 51,
   "id": "d0d1f284-bad3-43cc-a8ff-b867735dc6dd",
   "metadata": {},
   "outputs": [],
   "source": [
    "# here we compute all one-step propagators!\n",
    "\n",
    "# the hamCI Hamiltonian consists of two pieces:\n",
    "# 1) the core CI diagonal matrix (loaded from Gaussian)\n",
    "# 2) an electric field term (amplitude * dipole moment matrix in z direction)\n",
    "\n",
    "# to compute each propagator, we diagonalize hamCI at each time step\n",
    "\n",
    "hamCI = np.expand_dims(ham,0) - np.einsum('i,jk->ijk',ef,dimat)\n",
    "hamCI = (1+0j)*hamCI\n",
    "alldd = np.zeros((trajshape0,drcCI),dtype=np.float64)\n",
    "allvv = np.zeros((trajshape0,drcCI,drcCI),dtype=np.complex128)\n",
    "allprop = np.zeros((trajshape0,drcCI,drcCI),dtype=np.complex128)\n",
    "for i in range(trajshape0):\n",
    "    dd, vv = np.linalg.eigh(hamCI[i,:,:])\n",
    "    alldd[i,:] = dd\n",
    "    allvv[i,:,:] = vv\n",
    "    allprop[i,:,:] = vv @ np.diag(np.exp(-1j*mydt*alldd[i,:])) @ vv.conj().T\n",
    "    "
   ]
  },
  {
   "cell_type": "code",
   "execution_count": null,
   "id": "15b7ac62-b851-4f1b-8a34-2e0d5057933a",
   "metadata": {},
   "outputs": [],
   "source": []
  },
  {
   "cell_type": "code",
   "execution_count": 52,
   "id": "708734b4-177f-40eb-8c85-d22f38bb9f42",
   "metadata": {},
   "outputs": [],
   "source": [
    "newtdcicoeffs = np.zeros((trajshape0,drcCI),dtype=np.complex128)\n",
    "newtdcicoeffs[0,0] = 1.0 \n",
    "for i in range(trajshape0-1):\n",
    "    newtdcicoeffs[i+1,:] = allprop[i,:,:] @ newtdcicoeffs[i,:]\n",
    "\n",
    "bigtens = P\n",
    "\n",
    "# load overlap matrix from disk\n",
    "goodlines = []\n",
    "with open('./logfiles/'+prefix+mol+'_'+basis+'.log','r') as f:\n",
    "    startmat = 0\n",
    "    cnt = 0\n",
    "    for line in f:\n",
    "        if line.rstrip() == ' *** Overlap ***':\n",
    "            startmat = 1\n",
    "        if startmat==1:\n",
    "            if line.rstrip() == ' *** Kinetic Energy ***':\n",
    "                break\n",
    "            if cnt >= 2:\n",
    "                goodlines.append(line.rstrip())\n",
    "            cnt += 1\n",
    "\n",
    "drc = len(goodlines)\n",
    "S = np.zeros((drc, drc))\n",
    "for j in range(drc):\n",
    "    for k in range(j+1):\n",
    "        myarr = np.fromstring(goodlines[j].replace('D','e'), sep=' ')\n",
    "        S[j,k] = myarr[k+1]\n",
    "\n",
    "for j in range(drc):\n",
    "    for k in range(j+1,drc):\n",
    "        S[j,k] = S[k,j]"
   ]
  },
  {
   "cell_type": "code",
   "execution_count": 53,
   "id": "10136295-9514-4105-97da-87e394babc85",
   "metadata": {},
   "outputs": [
    {
     "name": "stdout",
     "output_type": "stream",
     "text": [
      "1.9999975931544807\n"
     ]
    }
   ],
   "source": [
    "newrdmAO = np.einsum('ni,nj,ijab->nab',newtdcicoeffs,np.conjugate(newtdcicoeffs),bigtens)\n",
    "traces_p = np.einsum('ijj->i', newrdmAO@S)\n",
    "print(np.mean(np.abs(traces_p)))"
   ]
  },
  {
   "cell_type": "code",
   "execution_count": 54,
   "id": "95377063-8025-4188-a477-1954a1380a7a",
   "metadata": {},
   "outputs": [
    {
     "name": "stdout",
     "output_type": "stream",
     "text": [
      "5.149606664557452e-12\n"
     ]
    }
   ],
   "source": [
    "tdciden = np.einsum('ni,nj->nij',newtdcicoeffs,np.conj(newtdcicoeffs))\n",
    "print( np.linalg.norm(np.einsum('nij,njk->nik',tdciden,tdciden) - tdciden) )"
   ]
  },
  {
   "cell_type": "code",
   "execution_count": 55,
   "id": "9d9a04ae-68d4-4d75-a86d-00dbbd44bf93",
   "metadata": {},
   "outputs": [
    {
     "name": "stdout",
     "output_type": "stream",
     "text": [
      "0.0\n"
     ]
    }
   ],
   "source": [
    "bigtens = bigtens.reshape((drcCI**2,drc**2)).astype(np.complex128)\n",
    "matmulrdmAO = np.einsum('ij,jk->ik',\n",
    "                        np.transpose(tdciden,axes=[0,1,2]).reshape((-1,drcCI**2)),\n",
    "                        bigtens).reshape((-1,drc,drc))\n",
    "\n",
    "print( np.mean(np.abs(matmulrdmAO - newrdmAO)) )"
   ]
  },
  {
   "cell_type": "code",
   "execution_count": 56,
   "id": "a951bece-cb83-4bbc-863a-fd17cac71ff1",
   "metadata": {},
   "outputs": [],
   "source": [
    "ells = np.arange(70,72,2)"
   ]
  },
  {
   "cell_type": "code",
   "execution_count": 57,
   "id": "36a86b36-ffdf-4a0b-95d7-92a3adceaee8",
   "metadata": {},
   "outputs": [],
   "source": [
    "# matrix to convert an (nxn) Hermitian matrix to its vectorized form\n",
    "def mat2vec(n):\n",
    "    # real part\n",
    "    realmat = np.zeros((n**2,(n+1)*n//2),dtype=np.int16)\n",
    "    for i in range(n):\n",
    "        for j in range(n):\n",
    "            row = i*n + j\n",
    "            if i<=j:\n",
    "                col = i*n + j - i*(i+1)//2\n",
    "            else:\n",
    "                col = j*n + i - j*(j+1)//2\n",
    "            realmat[row,col]=1\n",
    "    j = 0\n",
    "    i = 0\n",
    "    # taking care of constant trace and we had no idea all along\n",
    "    while j < (realmat.shape[1] - 1):\n",
    "        realmat[-1,j] = -1\n",
    "        j += n - i*1\n",
    "        i += 1\n",
    "    #\n",
    "    # imaginary part\n",
    "    imagmat = np.zeros((n**2,(n-1)*n//2),dtype=np.int16)\n",
    "    for i in range(n):\n",
    "        for j in range(n):\n",
    "            row = i*n + j\n",
    "            if i<j:\n",
    "                col = i*n + j - (i+1)*(i+2)//2\n",
    "                imagmat[row,col]=1\n",
    "            if i>j:\n",
    "                col = j*n + i - (j+1)*(j+2)//2\n",
    "                imagmat[row,col]=-1\n",
    "    symmat = np.hstack([realmat, 1j*imagmat])\n",
    "    return symmat\n",
    "\n",
    "smat = mat2vec(drcCI)"
   ]
  },
  {
   "cell_type": "code",
   "execution_count": 58,
   "id": "9038f1bc-f822-483d-a08c-f287d4498b1e",
   "metadata": {},
   "outputs": [],
   "source": [
    "def ind_to_pair_upper(n, i, j):\n",
    "    if i < j:\n",
    "        return i * (2 * n - i - 1) // 2 + j\n",
    "    else:\n",
    "        return j * (2 * n - j - 1) // 2 + i\n",
    "n = drcCI \n",
    "\n",
    "upper_mapping = {}\n",
    "\n",
    "#this is the diag upper representation\n",
    "for i in range(n):\n",
    "    for j in range(i, n):\n",
    "        k = ind_to_pair_upper(n, i, j)\n",
    "        upper_mapping[(i,j)] = k\n",
    "        \n",
    "def ind_to_pair_upper(n, i, j):\n",
    "    if i < j:\n",
    "        return i * (2 * n - i - 1) // 2 + j\n",
    "    # else:\n",
    "    #     return j * (2 * n - j - 1) // 2 + i\n",
    "n = drcCI \n",
    "\n",
    "upper_wo_diag_mapping = {}\n",
    "\n",
    "#this is the offdiag upper representation\n",
    "k=drcCI*(drcCI+1)//2\n",
    "for i in range(n):\n",
    "    for j in range(i+1, n):\n",
    "        upper_wo_diag_mapping[(i,j)] = k\n",
    "        k+=1"
   ]
  },
  {
   "cell_type": "code",
   "execution_count": 59,
   "id": "659d4dab-47fb-48cb-a189-fd140274da47",
   "metadata": {},
   "outputs": [
    {
     "name": "stdout",
     "output_type": "stream",
     "text": [
      "4\n"
     ]
    }
   ],
   "source": [
    "# this part here is problem-dependent!\n",
    "\n",
    "# the next two rows are for H2 in STO-3G\n",
    "if mol=='h2':\n",
    "    if basis=='sto-3g':\n",
    "        good_cols = np.array([ 0, 2, 3])\n",
    "        zero_cols = np.array([ 1])\n",
    "    elif basis=='6-31g':\n",
    "        good_cols = np.array([ 0,  2,  4,  5,  7,  9, 11, 12, 14, 15])\n",
    "        zero_cols = np.array([ 1,  3,  6,  8,  10,  13])\n",
    "elif mol=='heh+':\n",
    "    if basis=='sto-3g':\n",
    "        good_cols = np.array([ 0, 2, 3])\n",
    "        zero_cols = np.array([ 1])\n",
    "    elif basis=='6-31g':\n",
    "        good_cols = np.array([ 0,  2,  4,  6,  7,  9, 11, 12, 14, 15])\n",
    "        zero_cols = np.array([ 1,  3,  5,  8,  10,  13])\n",
    "\n",
    "bad_inds = []\n",
    "del_upper = 0\n",
    "\n",
    "for key in list(upper_mapping.keys()):\n",
    "    for c in zero_cols:\n",
    "        if c in key:\n",
    "            #print(key, ' bad')\n",
    "            bad_inds.append(upper_mapping[key])\n",
    "            del_upper+=1\n",
    "            break\n",
    "print(del_upper)"
   ]
  },
  {
   "cell_type": "code",
   "execution_count": 60,
   "id": "4a6bdde3-2c32-436b-af8d-6f2038b47be0",
   "metadata": {},
   "outputs": [
    {
     "name": "stdout",
     "output_type": "stream",
     "text": [
      "3\n"
     ]
    }
   ],
   "source": [
    "del_lower = 0\n",
    "for key in list(upper_wo_diag_mapping.keys()):\n",
    "    for c in zero_cols:\n",
    "        if c in key:\n",
    "            #print(key, ' bad')\n",
    "            bad_inds.append(upper_wo_diag_mapping[key])\n",
    "            del_lower+=1\n",
    "            break\n",
    "print(del_lower)"
   ]
  },
  {
   "cell_type": "code",
   "execution_count": 61,
   "id": "5ffd4ba4-797e-4ea9-b873-874f64ede669",
   "metadata": {},
   "outputs": [],
   "source": [
    "split = drcCI*(drcCI+1)//2-del_upper"
   ]
  },
  {
   "cell_type": "code",
   "execution_count": 62,
   "id": "9fdd0f0c-52b8-4a71-8e66-bcb46518ca86",
   "metadata": {},
   "outputs": [
    {
     "name": "stdout",
     "output_type": "stream",
     "text": [
      "True\n"
     ]
    }
   ],
   "source": [
    "good_inds = np.delete(np.arange(0,drcCI**2),bad_inds)\n",
    "total_inds = good_inds.tolist()\n",
    "total_inds.extend(bad_inds)\n",
    "total_inds.sort()\n",
    "\n",
    "print( all(total_inds == np.arange(0,drcCI**2)) )"
   ]
  },
  {
   "cell_type": "code",
   "execution_count": 63,
   "id": "e51edf09-da28-48a1-b6a4-66193454ef8b",
   "metadata": {},
   "outputs": [],
   "source": [
    "magicind = drcCI*(drcCI+1)//2 - 1\n",
    "good_inds_del = good_inds[good_inds!=magicind]"
   ]
  },
  {
   "cell_type": "code",
   "execution_count": 64,
   "id": "23c54750-c5f3-4307-a667-951a8b248dc6",
   "metadata": {},
   "outputs": [],
   "source": [
    "bigtensJNP = jnp.array(bigtens)\n",
    "bigtensTJNP = jnp.array(bigtens.T)\n",
    "allpropJNP = jnp.array(allprop)\n",
    "smatJNP = jnp.array(smat)"
   ]
  },
  {
   "cell_type": "code",
   "execution_count": 65,
   "id": "1bef315e-f8a8-4777-abde-ff9b71ab0418",
   "metadata": {},
   "outputs": [],
   "source": [
    "def firststep(rdmAO):\n",
    "    j = ell\n",
    "    bigmat = []\n",
    "    bigmat.append( bigtensTJNP )\n",
    "    allCmatT = []\n",
    "    for i in range(1,ell+1):\n",
    "        myexp = allpropJNP[j-i,:,:]\n",
    "        if i==1:\n",
    "            Cmat = myexp\n",
    "        else:\n",
    "            Cmat = Cmat @ myexp\n",
    "        # note that transpose\n",
    "        allCmatT.append(Cmat.T)\n",
    "    \n",
    "    newstack = jnp.stack(allCmatT)\n",
    "    \n",
    "    for i in range(1, ell+1):\n",
    "        CmatT = newstack[i-1]\n",
    "        Amat = CmatT.conj()\n",
    "        bigmat.append( bigtensTJNP @ jnp.kron( CmatT, Amat ) )\n",
    "\n",
    "    bigmat = jnp.concatenate(bigmat,axis=0)\n",
    "    \n",
    "    btrue = jnp.flipud(rdmAO[j-ell:(j+1),:]).reshape((-1))\n",
    "    mprime = bigmat @ smatJNP\n",
    "\n",
    "    # reconstruct full TDCI density\n",
    "    xxapprox = jnp.real( jnp.linalg.pinv(mprime[:,good_inds_del],1e-12) @ (btrue - bigmat[:,-1]) )\n",
    "    xxapprox2 = jnp.concatenate([xxapprox[:split-1],jnp.array([1.0]),-xxapprox[split-1:]])\n",
    "    \n",
    "    recon = (smatJNP[:,good_inds] @ xxapprox2).reshape((drcCI,drcCI))\n",
    "    assert (recon == recon.conjugate().transpose()).all()\n",
    "\n",
    "    # propagate in full TDCI density space via one step of MMUT!\n",
    "    reconprop = allpropJNP[j,:,:] @ recon @ allpropJNP[j,:,:].conj().T\n",
    "\n",
    "    # compute new rdm\n",
    "    nextrdmAO = (reconprop.reshape((-1)) @ bigtensJNP).conj()\n",
    "    return nextrdmAO, newstack"
   ]
  },
  {
   "cell_type": "code",
   "execution_count": 66,
   "id": "8b9f42da-0a5e-4fd5-be86-6c4d0fa01dcf",
   "metadata": {},
   "outputs": [],
   "source": [
    "def loopbody(j, intup):\n",
    "    rdmAO, oldstack, sv, residuals = intup\n",
    "    #cond_num = []\n",
    "    bigmat = []\n",
    "    bigmat.append( bigtensTJNP )\n",
    "    \n",
    "    # note that the \"icb\" and \"ida\" here means that we are storing Cmat.T\n",
    "    allpropJNPds = lax.dynamic_slice(allpropJNP,[j-1-ell,0,0],[ell,drcCI,drcCI])\n",
    "    newstack = jnp.einsum('ab,icb,idc->ida',\n",
    "                         allpropJNP[j-1,:,:],\n",
    "                         oldstack,\n",
    "                         jnp.flipud(allpropJNPds).conj(),optimize=True)\n",
    "\n",
    "    for i in range(1, ell+1):\n",
    "        CmatT = newstack[i-1]\n",
    "        Amat = CmatT.conj()\n",
    "        bigmat.append( bigtensTJNP @ jnp.kron( CmatT, Amat ) )\n",
    "\n",
    "    bigmat = jnp.concatenate(bigmat,axis=0)\n",
    "    rdmAOds = lax.dynamic_slice(rdmAO,[j-ell,0],[ell+1,drc**2])\n",
    "    btrue = jnp.flipud(rdmAOds).reshape((-1))\n",
    "    mprime = bigmat @ smatJNP\n",
    "    ss = jnp.linalg.svd(mprime[:,good_inds_del], compute_uv=False)\n",
    "    \n",
    "    # reconstruct full TDCI density\n",
    "    # xxapprox = jnp.real( jnp.linalg.pinv(mprime[:,good_inds_del],1e-12) @ (btrue - bigmat[:,-1]) )\n",
    "    xxapproxtup = jnp.linalg.lstsq(mprime[:,good_inds_del], btrue - bigmat[:,-1], 1e-12 )\n",
    "    xxapprox = jnp.real( xxapproxtup[0] )\n",
    "    xxapprox2 = jnp.concatenate([xxapprox[:split-1],jnp.array([1.0]),-xxapprox[split-1:]])\n",
    "    \n",
    "    recon = (smatJNP[:,good_inds] @ xxapprox2).reshape((drcCI,drcCI))\n",
    "    \n",
    "    # propagate in full TDCI density space via one step of MMUT!\n",
    "    reconprop = allpropJNP[j,:,:] @ recon @ allpropJNP[j,:,:].conj().T\n",
    "\n",
    "    # compute new rdm\n",
    "    rdmAO = rdmAO.at[j+1].set( (reconprop.reshape((-1)) @ bigtensJNP).conj() )\n",
    "    sv = sv.at[j].set(jnp.max(ss)/jnp.min(ss))\n",
    "    residuals = residuals.at[j].set(jnp.linalg.norm(mprime[:,good_inds_del] @ xxapprox - (btrue - bigmat[:,-1])))\n",
    "    #sv.append(jnp.max(ss)/jnp.min(ss))\n",
    "    return (rdmAO, newstack, sv, residuals)"
   ]
  },
  {
   "cell_type": "code",
   "execution_count": 67,
   "id": "9a0ba370-dc50-4581-b702-fdbc01da5b88",
   "metadata": {},
   "outputs": [],
   "source": [
    "rdmAOs = []\n",
    "cond_nums = []\n",
    "MSEs = []\n",
    "residuals = []"
   ]
  },
  {
   "cell_type": "code",
   "execution_count": 68,
   "id": "4c4f8327-c866-44bd-a6c4-84cdbfee6450",
   "metadata": {},
   "outputs": [],
   "source": [
    "jloopbody = jit(loopbody)"
   ]
  },
  {
   "cell_type": "code",
   "execution_count": 69,
   "id": "725a41ce-8584-4ee4-89e1-955556478c37",
   "metadata": {},
   "outputs": [
    {
     "name": "stdout",
     "output_type": "stream",
     "text": [
      "53.26267766952515\n",
      "(1.0816623811612049e-05-1.3883493039405498e-22j)\n",
      "3.6344613515752498e-12\n"
     ]
    }
   ],
   "source": [
    "for ell in ells:\n",
    "    start = time.time()\n",
    "    \n",
    "    numsteps = newrdmAO.shape[0]\n",
    "\n",
    "    myrdmAOinitblock = jnp.transpose(newrdmAO[:ell+1,:,:],(0,2,1)).reshape((-1,drc**2))\n",
    "    firstnewrdmAO, newstack = firststep(myrdmAOinitblock)\n",
    "\n",
    "    myrdmAO = jnp.concatenate([myrdmAOinitblock, jnp.expand_dims(firstnewrdmAO,0), \n",
    "                               jnp.zeros((numsteps-(ell+2), drc**2), dtype=np.complex128)])\n",
    "    sv = jnp.zeros((numsteps-1-ell-1))\n",
    "    residual = jnp.zeros((numsteps-1-ell-1))\n",
    "    outtup = lax.fori_loop(ell+1,numsteps-1,jloopbody,(myrdmAO,newstack,sv,residual))\n",
    "    myrdmAO = outtup[0]\n",
    "    MSE = jnp.mean(jnp.square(myrdmAO[ell+1:].reshape((-1,drc,drc)).conj() - newrdmAO[ell+1:]))\n",
    "    MSEs.append(MSE)\n",
    "    cond_num = outtup[2]\n",
    "    myresidual = outtup[3]\n",
    "    end = time.time()\n",
    "    print(end-start)\n",
    "    rdmAOs.append(myrdmAO)\n",
    "    cond_nums.append(cond_num)\n",
    "    residuals.append(myresidual[-1])\n",
    "    print(MSEs[-1])\n",
    "    print(residuals[-1])"
   ]
  },
  {
   "cell_type": "code",
   "execution_count": 70,
   "id": "713ca881-8357-4c33-ac4b-306f969df7a1",
   "metadata": {},
   "outputs": [
    {
     "name": "stdout",
     "output_type": "stream",
     "text": [
      "(1.0816623811612049e-05-1.3883493039405498e-22j)\n"
     ]
    }
   ],
   "source": [
    "print(jnp.mean(jnp.square(myrdmAO[ell+1:].reshape((-1,drc,drc)).conj() - newrdmAO[ell+1:])))"
   ]
  },
  {
   "cell_type": "code",
   "execution_count": null,
   "id": "5cfb4984-6b94-41c4-bf01-4a15133b62ce",
   "metadata": {},
   "outputs": [],
   "source": []
  }
 ],
 "metadata": {
  "kernelspec": {
   "display_name": "jax2024",
   "language": "python",
   "name": "jax2024"
  },
  "language_info": {
   "codemirror_mode": {
    "name": "ipython",
    "version": 3
   },
   "file_extension": ".py",
   "mimetype": "text/x-python",
   "name": "python",
   "nbconvert_exporter": "python",
   "pygments_lexer": "ipython3",
   "version": "3.9.19"
  }
 },
 "nbformat": 4,
 "nbformat_minor": 5
}
