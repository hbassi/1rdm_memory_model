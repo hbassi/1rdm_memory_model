{
 "cells": [
  {
   "cell_type": "code",
   "execution_count": null,
   "id": "5d585a25-a190-468d-97c8-a3685e5547cb",
   "metadata": {
    "tags": []
   },
   "outputs": [],
   "source": [
    "from jax import config\n",
    "config.update(\"jax_enable_x64\", True)\n",
    "import jax.numpy as jnp\n",
    "from jax import jit, lax\n",
    "\n",
    "import numpy as np\n",
    "import matplotlib\n",
    "import matplotlib.pyplot as plt\n",
    "\n",
    "import scipy.integrate as si\n",
    "import scipy.optimize as so\n",
    "import scipy.linalg as sl\n",
    "\n",
    "import time\n",
    "\n",
    "from tqdm import trange\n",
    "import os \n",
    "os.environ['XLA_PYTHON_CLIENT_PREALLOCATE']='false'"
   ]
  },
  {
   "cell_type": "code",
   "execution_count": null,
   "id": "f669474f-0706-41e5-8640-bd3dc89fd85e",
   "metadata": {
    "tags": []
   },
   "outputs": [],
   "source": [
    "P = np.load('casscf22_s2_h2_sto-3g_tensor.npz')\n",
    "dimat = np.load('casscf22_s2_h2_sto-3g_CI_dimat.npz')\n",
    "trajectory_number = 135\n",
    "mol = 'heh+'\n",
    "method = 'tdcasscf'\n",
    "prefix = './dt0.008268/'\n",
    "trajnum = trajectory_number\n",
    "traj = str(trajnum).zfill(3)\n",
    "fname = prefix + 'time_coeffs.' + method + '_' + mol + '_sto-3g_' + traj + '_dt=0.008268au.txt'\n",
    "tdcicoeffs = np.loadtxt(fname,dtype=np.complex128)"
   ]
  },
  {
   "cell_type": "code",
   "execution_count": null,
   "id": "8a196636-672c-4e71-a3f8-524181236745",
   "metadata": {
    "tags": []
   },
   "outputs": [],
   "source": [
    "ham = np.load('casscf22_s2_h2_sto-3g_hamiltonian.npz')\n",
    "ham = ham - np.diag([np.min(ham)]*ham.shape[0])"
   ]
  },
  {
   "cell_type": "code",
   "execution_count": null,
   "id": "d7c54541-e669-42fe-a4ba-7f6d346d4197",
   "metadata": {
    "tags": []
   },
   "outputs": [],
   "source": [
    "runfile = np.load(prefix+'tdcasscf_heh+_sto-3g_'+str(trajnum).zfill(3)+'_dt=0.008268au.npz')\n",
    "mydt = 0.008268#runfile['dt_au'].item()\n",
    "print(mydt)"
   ]
  },
  {
   "cell_type": "code",
   "execution_count": null,
   "id": "a2c3ac0a-2740-4f0f-8ee4-2cf9c4dab671",
   "metadata": {
    "tags": []
   },
   "outputs": [],
   "source": [
    "runfile['freq']"
   ]
  },
  {
   "cell_type": "code",
   "execution_count": null,
   "id": "8cde0d5e-fa9d-4ed0-b18f-c6bcf2fea808",
   "metadata": {
    "tags": []
   },
   "outputs": [],
   "source": [
    "freq = 1.5"
   ]
  },
  {
   "cell_type": "code",
   "execution_count": null,
   "id": "984e8d41-bae5-4c3a-9c38-9f96cf974253",
   "metadata": {
    "tags": []
   },
   "outputs": [],
   "source": [
    "offset = 0\n",
    "tvec = np.arange(offset,offset+tdcicoeffs.shape[0])*mydt\n",
    "tmeoff = runfile['ncyc']*2*np.pi/freq\n",
    "ef = (tvec>=0)*(tvec<=tmeoff)*(runfile['emax'])*np.sin(freq*tvec)"
   ]
  },
  {
   "cell_type": "code",
   "execution_count": null,
   "id": "bd1c8101-c6ee-4cc7-9dac-1d3567840d8c",
   "metadata": {
    "tags": []
   },
   "outputs": [],
   "source": [
    "shape = 4\n",
    "#shape = 16\n",
    "hamCI = np.expand_dims(ham,0) - np.einsum('i,jk->ijk',ef,dimat)\n",
    "hamCI = (1+0j)*hamCI\n",
    "numhamCI = hamCI.shape[0]\n",
    "alldd = np.zeros((numhamCI,shape),dtype=np.float64)\n",
    "allvv = np.zeros((numhamCI,shape,shape),dtype=np.complex128)\n",
    "allprop = np.zeros((numhamCI,shape,shape),dtype=np.complex128)\n",
    "for i in range(numhamCI):\n",
    "    dd, vv = np.linalg.eigh(hamCI[i,:,:])\n",
    "    alldd[i,:] = dd\n",
    "    allvv[i,:,:] = vv\n",
    "    allprop[i,:,:] = vv @ np.diag(np.exp(-1j*mydt*alldd[i,:])) @ vv.conj().T\n",
    "        "
   ]
  },
  {
   "cell_type": "code",
   "execution_count": null,
   "id": "f4667775-1c9b-4ebe-a182-3b04d9b2e0d1",
   "metadata": {
    "tags": []
   },
   "outputs": [],
   "source": [
    "newtdcicoeffs = np.zeros((tdcicoeffs.shape[0],shape),dtype=np.complex128)\n",
    "newtdcicoeffs[0,0] = 1.0 \n",
    "for i in range(newtdcicoeffs.shape[0]-1):\n",
    "    newtdcicoeffs[i+1,:] = sl.expm(-1j*(ham-ef[i]*dimat)*mydt) @ newtdcicoeffs[i,:]\n",
    "\n",
    "bigtens = P\n",
    "S = np.array([[1.0,0.659873],[0.659873,1.0]])\n",
    "S == S.T\n",
    "\n",
    "newrdmAO_p = np.einsum('ni,nj,ijab->nab',newtdcicoeffs,np.conjugate(newtdcicoeffs),bigtens)\n",
    "traces_p = np.einsum('ijj->i', newrdmAO_p@S)\n",
    "print(np.mean(np.abs(traces_p)))"
   ]
  },
  {
   "cell_type": "code",
   "execution_count": null,
   "id": "9559bb53-fe81-408c-84b5-fdd55c532c2e",
   "metadata": {
    "tags": []
   },
   "outputs": [],
   "source": [
    "newrdmAO = np.einsum('ni,nj,ijab->nab',newtdcicoeffs,np.conjugate(newtdcicoeffs),bigtens)\n",
    "tdciden = np.einsum('ni,nj->nij',newtdcicoeffs,np.conj(newtdcicoeffs))"
   ]
  },
  {
   "cell_type": "code",
   "execution_count": null,
   "id": "b2224d38-7b53-4e1c-8664-8c41f9c38912",
   "metadata": {
    "tags": []
   },
   "outputs": [],
   "source": [
    "print( np.linalg.norm(np.einsum('nij,njk->nik',tdciden,tdciden) - tdciden) )"
   ]
  },
  {
   "cell_type": "code",
   "execution_count": null,
   "id": "089cd379-95e0-489c-a119-a3095a8e3555",
   "metadata": {
    "tags": []
   },
   "outputs": [],
   "source": [
    "bigtens = bigtens.reshape((4**2,2**2)).astype(np.complex128)\n",
    "matmulrdmAO = np.einsum('ij,jk->ik',np.transpose(tdciden,axes=[0,1,2]).reshape((-1,4*4)), bigtens).reshape((-1,2,2))\n",
    "\n",
    "print( np.mean(np.abs(matmulrdmAO - newrdmAO)) )"
   ]
  },
  {
   "cell_type": "code",
   "execution_count": null,
   "id": "d343c891-76b5-44ff-8455-56904758a87e",
   "metadata": {
    "tags": []
   },
   "outputs": [],
   "source": [
    "ells = np.arange(70,72,2)"
   ]
  },
  {
   "cell_type": "code",
   "execution_count": null,
   "id": "cf097409-458f-49c9-8e66-5fb5c07b9b8e",
   "metadata": {
    "tags": []
   },
   "outputs": [],
   "source": [
    "# matrix to convert an (nxn) Hermitian matrix to its vectorized form\n",
    "drcCI = newtdcicoeffs.shape[1]\n",
    "drc = 2\n",
    "def mat2vec(n):\n",
    "    # real part\n",
    "    realmat = np.zeros((n**2,(n+1)*n//2),dtype=np.int16)\n",
    "    for i in range(n):\n",
    "        for j in range(n):\n",
    "            row = i*n + j\n",
    "            if i<=j:\n",
    "                col = i*n + j - i*(i+1)//2\n",
    "            else:\n",
    "                col = j*n + i - j*(j+1)//2\n",
    "            realmat[row,col]=1\n",
    "    j = 0\n",
    "    i = 0\n",
    "    # taking care of constant trace and we had no idea all along\n",
    "    while j < (realmat.shape[1] - 1):\n",
    "        realmat[-1,j] = -1\n",
    "        j += n - i*1\n",
    "        i += 1\n",
    "    #\n",
    "    # imaginary part\n",
    "    imagmat = np.zeros((n**2,(n-1)*n//2),dtype=np.int16)\n",
    "    for i in range(n):\n",
    "        for j in range(n):\n",
    "            row = i*n + j\n",
    "            if i<j:\n",
    "                col = i*n + j - (i+1)*(i+2)//2\n",
    "                imagmat[row,col]=1\n",
    "            if i>j:\n",
    "                col = j*n + i - (j+1)*(j+2)//2\n",
    "                imagmat[row,col]=-1\n",
    "    symmat = np.hstack([realmat, 1j*imagmat])\n",
    "    return symmat\n",
    "\n",
    "smat = mat2vec(drcCI)"
   ]
  },
  {
   "cell_type": "code",
   "execution_count": null,
   "id": "10ab1ddc-dc45-4d92-a7de-70d2b071eb50",
   "metadata": {
    "tags": []
   },
   "outputs": [],
   "source": [
    "def ind_to_pair_upper(n, i, j):\n",
    "    if i < j:\n",
    "        return i * (2 * n - i - 1) // 2 + j\n",
    "    else:\n",
    "        return j * (2 * n - j - 1) // 2 + i\n",
    "n = drcCI \n",
    "\n",
    "upper_mapping = {}\n",
    "\n",
    "#this is the diag upper representation\n",
    "for i in range(n):\n",
    "    for j in range(i, n):\n",
    "        k = ind_to_pair_upper(n, i, j)\n",
    "        upper_mapping[(i,j)] = k\n",
    "        \n",
    "def ind_to_pair_upper(n, i, j):\n",
    "    if i < j:\n",
    "        return i * (2 * n - i - 1) // 2 + j\n",
    "    # else:\n",
    "    #     return j * (2 * n - j - 1) // 2 + i\n",
    "n = drcCI \n",
    "\n",
    "upper_wo_diag_mapping = {}\n",
    "\n",
    "#this is the offdiag upper representation\n",
    "k=10\n",
    "for i in range(n):\n",
    "    for j in range(i+1, n):\n",
    "        upper_wo_diag_mapping[(i,j)] = k\n",
    "        k+=1"
   ]
  },
  {
   "cell_type": "code",
   "execution_count": null,
   "id": "95849a41-bda4-407a-b3e0-603a4655f0a6",
   "metadata": {
    "tags": []
   },
   "outputs": [],
   "source": [
    "good_cols = np.array([ 0, 2, 3])\n",
    "zero_cols = np.array([ 1])\n",
    "bad_inds = []\n",
    "del_upper = 0\n",
    "for key in list(upper_mapping.keys()):\n",
    "    for c in zero_cols:\n",
    "        if c in key:\n",
    "            #print(key, ' bad')\n",
    "            bad_inds.append(upper_mapping[key])\n",
    "            del_upper+=1\n",
    "            break\n",
    "print(del_upper)"
   ]
  },
  {
   "cell_type": "code",
   "execution_count": null,
   "id": "d860dadc-6cad-4ddf-b876-9f7f8dbc11e4",
   "metadata": {
    "tags": []
   },
   "outputs": [],
   "source": [
    "del_lower = 0\n",
    "for key in list(upper_wo_diag_mapping.keys()):\n",
    "    for c in zero_cols:\n",
    "        if c in key:\n",
    "            #print(key, ' bad')\n",
    "            bad_inds.append(upper_wo_diag_mapping[key])\n",
    "            del_lower+=1\n",
    "            break\n",
    "print(del_lower)"
   ]
  },
  {
   "cell_type": "code",
   "execution_count": null,
   "id": "fb3d47c1-5020-48d5-bb2f-00f7ed0e25b5",
   "metadata": {
    "tags": []
   },
   "outputs": [],
   "source": [
    "split = drcCI*(drcCI+1)//2-del_upper"
   ]
  },
  {
   "cell_type": "code",
   "execution_count": null,
   "id": "3b6d7f77-db4f-45d2-9d27-0a1f04e98969",
   "metadata": {
    "tags": []
   },
   "outputs": [],
   "source": [
    "good_inds = np.delete(np.arange(0,drcCI**2),bad_inds)\n",
    "total_inds = good_inds.tolist()\n",
    "total_inds.extend(bad_inds)\n",
    "total_inds.sort()\n",
    "\n",
    "print( all(total_inds == np.arange(0,drcCI**2)) )"
   ]
  },
  {
   "cell_type": "code",
   "execution_count": null,
   "id": "8bc50e60-8062-42a4-9d5a-bd48f026b195",
   "metadata": {
    "tags": []
   },
   "outputs": [],
   "source": [
    "magicind = drcCI*(drcCI+1)//2 - 1\n",
    "good_inds_del = good_inds[good_inds!=magicind]"
   ]
  },
  {
   "cell_type": "code",
   "execution_count": null,
   "id": "f706d996-bd9d-4afc-b532-075cdea99e3a",
   "metadata": {
    "tags": []
   },
   "outputs": [],
   "source": [
    "# ell = ells[0]\n",
    "# print(ell)"
   ]
  },
  {
   "cell_type": "code",
   "execution_count": null,
   "id": "11c3c287-bfa2-47b4-99e7-e04bd7a60596",
   "metadata": {
    "tags": []
   },
   "outputs": [],
   "source": [
    "bigtensJNP = jnp.array(bigtens)\n",
    "bigtensTJNP = jnp.array(bigtens.T)\n",
    "allpropJNP = jnp.array(allprop)\n",
    "smatJNP = jnp.array(smat)"
   ]
  },
  {
   "cell_type": "code",
   "execution_count": null,
   "id": "c1ae5b9c-c12b-4b6a-8ba1-9050eb19d54a",
   "metadata": {
    "tags": []
   },
   "outputs": [],
   "source": [
    "def firststep(rdmAO):\n",
    "    j = ell\n",
    "    bigmat = []\n",
    "    bigmat.append( bigtensTJNP )\n",
    "    allCmatT = []\n",
    "    for i in range(1,ell+1):\n",
    "        myexp = allpropJNP[j-i,:,:]\n",
    "        if i==1:\n",
    "            Cmat = myexp\n",
    "        else:\n",
    "            Cmat = Cmat @ myexp\n",
    "        # note that transpose\n",
    "        allCmatT.append(Cmat.T)\n",
    "    \n",
    "    newstack = jnp.stack(allCmatT)\n",
    "    \n",
    "    for i in range(1, ell+1):\n",
    "        CmatT = newstack[i-1]\n",
    "        Amat = CmatT.conj()\n",
    "        bigmat.append( bigtensTJNP @ jnp.kron( CmatT, Amat ) )\n",
    "\n",
    "    bigmat = jnp.concatenate(bigmat,axis=0)\n",
    "    \n",
    "    btrue = jnp.flipud(rdmAO[j-ell:(j+1),:]).reshape((-1))\n",
    "    mprime = bigmat @ smatJNP\n",
    "\n",
    "    # monitor singular values\n",
    "    # _, ss, _ = jnp.linalg.svd(mprime[:,good_inds_del]) # , compute_uv=False)\n",
    "    # if jnp.min(ss) < 1e-15:\n",
    "    #     print(\"Warning: singular value < 1e-15 detected at time step \" + str(j))\n",
    "\n",
    "    # reconstruct full TDCI density\n",
    "    xxapprox = jnp.real( jnp.linalg.pinv(mprime[:,good_inds_del],1e-12) @ (btrue - bigmat[:,-1]) )\n",
    "    xxapprox2 = jnp.concatenate([xxapprox[:split-1],jnp.array([1.0]),-xxapprox[split-1:]])\n",
    "    \n",
    "    recon = (smatJNP[:,good_inds] @ xxapprox2).reshape((drcCI,drcCI))\n",
    "    assert (recon == recon.conjugate().transpose()).all()\n",
    "\n",
    "    # propagate in full TDCI density space via one step of MMUT!\n",
    "    reconprop = allpropJNP[j,:,:] @ recon @ allpropJNP[j,:,:].conj().T\n",
    "\n",
    "    # compute new rdm\n",
    "    nextrdmAO = (reconprop.reshape((-1)) @ bigtensJNP).conj()\n",
    "    return nextrdmAO, newstack"
   ]
  },
  {
   "cell_type": "code",
   "execution_count": null,
   "id": "77148561-6c24-4e35-852b-36182afde50a",
   "metadata": {
    "tags": []
   },
   "outputs": [],
   "source": [
    "def loopbody(j, intup):\n",
    "    rdmAO, oldstack, sv, residuals = intup\n",
    "    #cond_num = []\n",
    "    bigmat = []\n",
    "    bigmat.append( bigtensTJNP )\n",
    "    \n",
    "    # note that the \"icb\" and \"ida\" here means that we are storing Cmat.T\n",
    "    allpropJNPds = lax.dynamic_slice(allpropJNP,[j-1-ell,0,0],[ell,drcCI,drcCI])\n",
    "    newstack = jnp.einsum('ab,icb,idc->ida',\n",
    "                         allpropJNP[j-1,:,:],\n",
    "                         oldstack,\n",
    "                         jnp.flipud(allpropJNPds).conj(),optimize=True)\n",
    "\n",
    "    for i in range(1, ell+1):\n",
    "        CmatT = newstack[i-1]\n",
    "        Amat = CmatT.conj()\n",
    "        bigmat.append( bigtensTJNP @ jnp.kron( CmatT, Amat ) )\n",
    "\n",
    "    bigmat = jnp.concatenate(bigmat,axis=0)\n",
    "    rdmAOds = lax.dynamic_slice(rdmAO,[j-ell,0],[ell+1,drc**2])\n",
    "    btrue = jnp.flipud(rdmAOds).reshape((-1))\n",
    "    mprime = bigmat @ smatJNP\n",
    "    \n",
    "    # error handling inside JIT'd functions is not obvious so i'm commenting this out\n",
    "    #monitor singular values\n",
    "    _, ss, _ = jnp.linalg.svd(mprime[:,good_inds_del]) # , compute_uv=False)\n",
    "    #cond_num.append()\n",
    "    # if jnp.min(ss) < 1e-15:\n",
    "    #     print(\"Warning: singular value < 1e-15 detected at time step \" + str(j))\n",
    "\n",
    "    # reconstruct full TDCI density\n",
    "    xxapprox = jnp.real( jnp.linalg.pinv(mprime[:,good_inds_del],1e-12) @ (btrue - bigmat[:,-1]) )\n",
    "   \n",
    "    xxapprox2 = jnp.concatenate([xxapprox[:split-1],jnp.array([1.0]),-xxapprox[split-1:]])\n",
    "    \n",
    "    recon = (smatJNP[:,good_inds] @ xxapprox2).reshape((drcCI,drcCI))\n",
    "    \n",
    "    # error handling inside JIT'd functions is not obvious so i'm commenting this out\n",
    "    # assert (recon == recon.conjugate().transpose()).all()\n",
    "\n",
    "    # propagate in full TDCI density space via one step of MMUT!\n",
    "    reconprop = allpropJNP[j,:,:] @ recon @ allpropJNP[j,:,:].conj().T\n",
    "\n",
    "    # compute new rdm\n",
    "    rdmAO = rdmAO.at[j+1].set( (reconprop.reshape((-1)) @ bigtensJNP).conj() )\n",
    "    sv = sv.at[j].set(jnp.max(ss)/jnp.min(ss))\n",
    "    residuals = residuals.at[j].set(jnp.linalg.norm(mprime[:,good_inds_del] @ xxapprox - (btrue - bigmat[:,-1])))\n",
    "    #sv.append(jnp.max(ss)/jnp.min(ss))\n",
    "    return (rdmAO, newstack, sv, residuals)"
   ]
  },
  {
   "cell_type": "code",
   "execution_count": null,
   "id": "60eea19f-ff7c-460b-a313-18c7332f1bef",
   "metadata": {
    "tags": []
   },
   "outputs": [],
   "source": [
    "rdmAOs = []\n",
    "cond_nums = []\n",
    "MSEs = []\n",
    "residuals = []"
   ]
  },
  {
   "cell_type": "code",
   "execution_count": null,
   "id": "f9879b35-89dd-467a-a373-4eb98e825298",
   "metadata": {
    "tags": []
   },
   "outputs": [],
   "source": []
  },
  {
   "cell_type": "code",
   "execution_count": null,
   "id": "9bcaf551-ef12-40a3-9bea-0de8fc9fc3b5",
   "metadata": {
    "tags": []
   },
   "outputs": [],
   "source": [
    "for ell in ells:\n",
    "    start = time.time()\n",
    "    \n",
    "    numsteps = matmulrdmAO.shape[0]\n",
    "\n",
    "    myrdmAOinitblock = jnp.transpose(newrdmAO[:ell+1,:,:],(0,2,1)).reshape((-1,drc**2))\n",
    "    firstnewrdmAO, newstack = firststep(myrdmAOinitblock)\n",
    "\n",
    "    myrdmAO = jnp.concatenate([myrdmAOinitblock, jnp.expand_dims(firstnewrdmAO,0), \n",
    "                               jnp.zeros((numsteps-(ell+2), drc**2), dtype=np.complex128)])\n",
    "    sv = jnp.zeros((numsteps-1-ell-1))\n",
    "    residual = jnp.zeros((numsteps-1-ell-1))\n",
    "    outtup = lax.fori_loop(ell+1,numsteps-1,loopbody,(myrdmAO,newstack,sv,residual))\n",
    "    myrdmAO = outtup[0]\n",
    "    MSE = jnp.mean(jnp.square(myrdmAO[ell+1:].reshape((-1,drc,drc)).conj() - newrdmAO[ell+1:]))\n",
    "    MSEs.append(MSE)\n",
    "    cond_num = outtup[2]\n",
    "    myresidual = outtup[3]\n",
    "    end = time.time()\n",
    "    print(end-start)\n",
    "    rdmAOs.append(myrdmAO)\n",
    "    cond_nums.append(cond_num)\n",
    "    residuals.append(myresidual[-1])\n",
    "    print(MSEs[-1])\n",
    "    print(residuals[-1])"
   ]
  },
  {
   "cell_type": "code",
   "execution_count": null,
   "id": "7f853cb6-61ab-49df-94cd-156e6956616f",
   "metadata": {
    "tags": []
   },
   "outputs": [],
   "source": [
    "print(jnp.mean(jnp.square(myrdmAO[ell+1:].reshape((-1,drc,drc)).conj() - newrdmAO[ell+1:])))"
   ]
  },
  {
   "cell_type": "code",
   "execution_count": null,
   "id": "9fc0c1d2-3205-4783-9d98-627514382e43",
   "metadata": {
    "tags": []
   },
   "outputs": [],
   "source": [
    "fig, axs = plt.subplots(2, 2, figsize=(12, 12))\n",
    "icnt=0\n",
    "jcnt=0\n",
    "for i in range(2):\n",
    "    for j in range(2):\n",
    "        axs[i,j].plot(np.real(myrdmAO[:ell+10000,:].reshape((ell+10000,2,2))[:,i,j]),color='red')\n",
    "        axs[i,j].plot(np.real(newrdmAO[:ell+10000,i,j]),color='black')\n",
    "        axs[i,j].set_title('Re(P'+str(i)+str(j)+')')\n",
    "        axs[i,j].set_xlabel('t (a.u.)')\n",
    "        jcnt+=1\n",
    "    icnt+=1\n",
    "plt.legend(['Memory Model','Ground Truth'])\n",
    "fig.suptitle('Real H2 in STO-3G')\n",
    "plt.tight_layout()\n",
    "plt.savefig('./figures/h2_real_post_prop_sto-3g_dt-0.082680.pdf')\n"
   ]
  },
  {
   "cell_type": "code",
   "execution_count": null,
   "id": "321c1adb-c653-4852-a6a1-7c91bab79f59",
   "metadata": {
    "tags": []
   },
   "outputs": [],
   "source": [
    "fig, axs = plt.subplots(2, 2, figsize=(12, 12))\n",
    "icnt=0\n",
    "jcnt=0\n",
    "for i in range(2):\n",
    "    for j in range(2):\n",
    "        axs[i,j].plot(np.imag(myrdmAO[:ell+10000,:].conj()).reshape((ell+10000,2,2))[:,i,j],color='red')\n",
    "        axs[i,j].plot(np.imag(newrdmAO[:ell+10000,i,j]),color='black')\n",
    "        axs[i,j].set_title('Im(P'+str(i)+str(j)+')')\n",
    "        axs[i,j].set_xlabel('t (a.u.)')\n",
    "        jcnt+=1\n",
    "    icnt+=1\n",
    "plt.legend(['Memory Model','Ground Truth'])\n",
    "fig.suptitle('Imaginary H2 in STO-3G')\n",
    "plt.tight_layout()\n",
    "#plt.savefig('imag_post_prop_6-31g.pdf')"
   ]
  },
  {
   "cell_type": "code",
   "execution_count": null,
   "id": "1cbfc734-a497-41ac-b535-cd8a657beac2",
   "metadata": {},
   "outputs": [],
   "source": []
  }
 ],
 "metadata": {
  "kernelspec": {
   "display_name": "tensorflow-2.9.0",
   "language": "python",
   "name": "tensorflow-2.9.0"
  },
  "language_info": {
   "codemirror_mode": {
    "name": "ipython",
    "version": 3
   },
   "file_extension": ".py",
   "mimetype": "text/x-python",
   "name": "python",
   "nbconvert_exporter": "python",
   "pygments_lexer": "ipython3",
   "version": "3.9.15"
  }
 },
 "nbformat": 4,
 "nbformat_minor": 5
}
